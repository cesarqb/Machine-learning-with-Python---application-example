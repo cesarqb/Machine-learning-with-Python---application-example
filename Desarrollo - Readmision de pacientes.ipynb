{
 "cells": [
  {
   "cell_type": "markdown",
   "metadata": {},
   "source": [
    "## ESTUDIO DE CASO: READMISIÓN DE PACIENTES"
   ]
  },
  {
   "cell_type": "markdown",
   "metadata": {},
   "source": [
    "Curso: Machine Learning con Python\n",
    "\n",
    "----------------------------------------------------------------------\n",
    "----------------------------------------------------------------------\n",
    "----------------------------------------------------------------------"
   ]
  },
  {
   "cell_type": "markdown",
   "metadata": {},
   "source": [
    "**1. Carga de modulos**"
   ]
  },
  {
   "cell_type": "code",
   "execution_count": 1,
   "metadata": {},
   "outputs": [],
   "source": [
    "import pandas as pd\n",
    "import numpy as np\n",
    "import matplotlib.pyplot as plt\n",
    "import seaborn as sns"
   ]
  },
  {
   "cell_type": "markdown",
   "metadata": {},
   "source": [
    "**2. Carga de bases de datos**"
   ]
  },
  {
   "cell_type": "code",
   "execution_count": 2,
   "metadata": {},
   "outputs": [],
   "source": [
    "bd_diabetic_data = pd.read_csv('data/diabetic_data.csv')\n",
    "bd_AdmissionSource = pd.read_csv('data/admission_source_id.csv')\n",
    "bd_admission_type_id = pd.read_csv('data/admission_type_id.csv')\n",
    "bd_discharge_disposition_id = pd.read_csv('data/discharge_disposition_id.csv')"
   ]
  },
  {
   "cell_type": "code",
   "execution_count": 3,
   "metadata": {},
   "outputs": [
    {
     "data": {
      "text/plain": [
       "(101766, 50)"
      ]
     },
     "execution_count": 3,
     "metadata": {},
     "output_type": "execute_result"
    }
   ],
   "source": [
    "bd_diabetic_data.shape"
   ]
  },
  {
   "cell_type": "code",
   "execution_count": 5,
   "metadata": {},
   "outputs": [
    {
     "data": {
      "text/html": [
       "<div>\n",
       "<style scoped>\n",
       "    .dataframe tbody tr th:only-of-type {\n",
       "        vertical-align: middle;\n",
       "    }\n",
       "\n",
       "    .dataframe tbody tr th {\n",
       "        vertical-align: top;\n",
       "    }\n",
       "\n",
       "    .dataframe thead th {\n",
       "        text-align: right;\n",
       "    }\n",
       "</style>\n",
       "<table border=\"1\" class=\"dataframe\">\n",
       "  <thead>\n",
       "    <tr style=\"text-align: right;\">\n",
       "      <th></th>\n",
       "      <th>encounter_id</th>\n",
       "      <th>patient_nbr</th>\n",
       "      <th>race</th>\n",
       "      <th>gender</th>\n",
       "      <th>age</th>\n",
       "      <th>weight</th>\n",
       "      <th>admission_type_id</th>\n",
       "      <th>discharge_disposition_id</th>\n",
       "      <th>admission_source_id</th>\n",
       "      <th>time_in_hospital</th>\n",
       "      <th>...</th>\n",
       "      <th>citoglipton</th>\n",
       "      <th>insulin</th>\n",
       "      <th>glyburide-metformin</th>\n",
       "      <th>glipizide-metformin</th>\n",
       "      <th>glimepiride-pioglitazone</th>\n",
       "      <th>metformin-rosiglitazone</th>\n",
       "      <th>metformin-pioglitazone</th>\n",
       "      <th>change</th>\n",
       "      <th>diabetesMed</th>\n",
       "      <th>readmitted</th>\n",
       "    </tr>\n",
       "  </thead>\n",
       "  <tbody>\n",
       "    <tr>\n",
       "      <th>0</th>\n",
       "      <td>2278392</td>\n",
       "      <td>8222157</td>\n",
       "      <td>Caucasian</td>\n",
       "      <td>Female</td>\n",
       "      <td>[0-10)</td>\n",
       "      <td>?</td>\n",
       "      <td>6</td>\n",
       "      <td>25</td>\n",
       "      <td>1</td>\n",
       "      <td>1</td>\n",
       "      <td>...</td>\n",
       "      <td>No</td>\n",
       "      <td>No</td>\n",
       "      <td>No</td>\n",
       "      <td>No</td>\n",
       "      <td>No</td>\n",
       "      <td>No</td>\n",
       "      <td>No</td>\n",
       "      <td>No</td>\n",
       "      <td>No</td>\n",
       "      <td>NO</td>\n",
       "    </tr>\n",
       "    <tr>\n",
       "      <th>1</th>\n",
       "      <td>149190</td>\n",
       "      <td>55629189</td>\n",
       "      <td>Caucasian</td>\n",
       "      <td>Female</td>\n",
       "      <td>[10-20)</td>\n",
       "      <td>?</td>\n",
       "      <td>1</td>\n",
       "      <td>1</td>\n",
       "      <td>7</td>\n",
       "      <td>3</td>\n",
       "      <td>...</td>\n",
       "      <td>No</td>\n",
       "      <td>Up</td>\n",
       "      <td>No</td>\n",
       "      <td>No</td>\n",
       "      <td>No</td>\n",
       "      <td>No</td>\n",
       "      <td>No</td>\n",
       "      <td>Ch</td>\n",
       "      <td>Yes</td>\n",
       "      <td>&gt;30</td>\n",
       "    </tr>\n",
       "    <tr>\n",
       "      <th>2</th>\n",
       "      <td>64410</td>\n",
       "      <td>86047875</td>\n",
       "      <td>AfricanAmerican</td>\n",
       "      <td>Female</td>\n",
       "      <td>[20-30)</td>\n",
       "      <td>?</td>\n",
       "      <td>1</td>\n",
       "      <td>1</td>\n",
       "      <td>7</td>\n",
       "      <td>2</td>\n",
       "      <td>...</td>\n",
       "      <td>No</td>\n",
       "      <td>No</td>\n",
       "      <td>No</td>\n",
       "      <td>No</td>\n",
       "      <td>No</td>\n",
       "      <td>No</td>\n",
       "      <td>No</td>\n",
       "      <td>No</td>\n",
       "      <td>Yes</td>\n",
       "      <td>NO</td>\n",
       "    </tr>\n",
       "    <tr>\n",
       "      <th>3</th>\n",
       "      <td>500364</td>\n",
       "      <td>82442376</td>\n",
       "      <td>Caucasian</td>\n",
       "      <td>Male</td>\n",
       "      <td>[30-40)</td>\n",
       "      <td>?</td>\n",
       "      <td>1</td>\n",
       "      <td>1</td>\n",
       "      <td>7</td>\n",
       "      <td>2</td>\n",
       "      <td>...</td>\n",
       "      <td>No</td>\n",
       "      <td>Up</td>\n",
       "      <td>No</td>\n",
       "      <td>No</td>\n",
       "      <td>No</td>\n",
       "      <td>No</td>\n",
       "      <td>No</td>\n",
       "      <td>Ch</td>\n",
       "      <td>Yes</td>\n",
       "      <td>NO</td>\n",
       "    </tr>\n",
       "    <tr>\n",
       "      <th>4</th>\n",
       "      <td>16680</td>\n",
       "      <td>42519267</td>\n",
       "      <td>Caucasian</td>\n",
       "      <td>Male</td>\n",
       "      <td>[40-50)</td>\n",
       "      <td>?</td>\n",
       "      <td>1</td>\n",
       "      <td>1</td>\n",
       "      <td>7</td>\n",
       "      <td>1</td>\n",
       "      <td>...</td>\n",
       "      <td>No</td>\n",
       "      <td>Steady</td>\n",
       "      <td>No</td>\n",
       "      <td>No</td>\n",
       "      <td>No</td>\n",
       "      <td>No</td>\n",
       "      <td>No</td>\n",
       "      <td>Ch</td>\n",
       "      <td>Yes</td>\n",
       "      <td>NO</td>\n",
       "    </tr>\n",
       "  </tbody>\n",
       "</table>\n",
       "<p>5 rows × 50 columns</p>\n",
       "</div>"
      ],
      "text/plain": [
       "   encounter_id  patient_nbr             race  gender      age weight  \\\n",
       "0       2278392      8222157        Caucasian  Female   [0-10)      ?   \n",
       "1        149190     55629189        Caucasian  Female  [10-20)      ?   \n",
       "2         64410     86047875  AfricanAmerican  Female  [20-30)      ?   \n",
       "3        500364     82442376        Caucasian    Male  [30-40)      ?   \n",
       "4         16680     42519267        Caucasian    Male  [40-50)      ?   \n",
       "\n",
       "   admission_type_id  discharge_disposition_id  admission_source_id  \\\n",
       "0                  6                        25                    1   \n",
       "1                  1                         1                    7   \n",
       "2                  1                         1                    7   \n",
       "3                  1                         1                    7   \n",
       "4                  1                         1                    7   \n",
       "\n",
       "   time_in_hospital  ... citoglipton insulin  glyburide-metformin  \\\n",
       "0                 1  ...          No      No                   No   \n",
       "1                 3  ...          No      Up                   No   \n",
       "2                 2  ...          No      No                   No   \n",
       "3                 2  ...          No      Up                   No   \n",
       "4                 1  ...          No  Steady                   No   \n",
       "\n",
       "   glipizide-metformin  glimepiride-pioglitazone  metformin-rosiglitazone  \\\n",
       "0                   No                        No                       No   \n",
       "1                   No                        No                       No   \n",
       "2                   No                        No                       No   \n",
       "3                   No                        No                       No   \n",
       "4                   No                        No                       No   \n",
       "\n",
       "   metformin-pioglitazone  change diabetesMed readmitted  \n",
       "0                      No      No          No         NO  \n",
       "1                      No      Ch         Yes        >30  \n",
       "2                      No      No         Yes         NO  \n",
       "3                      No      Ch         Yes         NO  \n",
       "4                      No      Ch         Yes         NO  \n",
       "\n",
       "[5 rows x 50 columns]"
      ]
     },
     "execution_count": 5,
     "metadata": {},
     "output_type": "execute_result"
    }
   ],
   "source": [
    "bd_diabetic_data.head(5)"
   ]
  },
  {
   "cell_type": "code",
   "execution_count": 7,
   "metadata": {},
   "outputs": [
    {
     "name": "stdout",
     "output_type": "stream",
     "text": [
      "<class 'pandas.core.frame.DataFrame'>\n",
      "RangeIndex: 101766 entries, 0 to 101765\n",
      "Data columns (total 50 columns):\n",
      " #   Column                    Non-Null Count   Dtype \n",
      "---  ------                    --------------   ----- \n",
      " 0   encounter_id              101766 non-null  int64 \n",
      " 1   patient_nbr               101766 non-null  int64 \n",
      " 2   race                      101766 non-null  object\n",
      " 3   gender                    101766 non-null  object\n",
      " 4   age                       101766 non-null  object\n",
      " 5   weight                    101766 non-null  object\n",
      " 6   admission_type_id         101766 non-null  int64 \n",
      " 7   discharge_disposition_id  101766 non-null  int64 \n",
      " 8   admission_source_id       101766 non-null  int64 \n",
      " 9   time_in_hospital          101766 non-null  int64 \n",
      " 10  payer_code                101766 non-null  object\n",
      " 11  medical_specialty         101766 non-null  object\n",
      " 12  num_lab_procedures        101766 non-null  int64 \n",
      " 13  num_procedures            101766 non-null  int64 \n",
      " 14  num_medications           101766 non-null  int64 \n",
      " 15  number_outpatient         101766 non-null  int64 \n",
      " 16  number_emergency          101766 non-null  int64 \n",
      " 17  number_inpatient          101766 non-null  int64 \n",
      " 18  diag_1                    101766 non-null  object\n",
      " 19  diag_2                    101766 non-null  object\n",
      " 20  diag_3                    101766 non-null  object\n",
      " 21  number_diagnoses          101766 non-null  int64 \n",
      " 22  max_glu_serum             101766 non-null  object\n",
      " 23  A1Cresult                 101766 non-null  object\n",
      " 24  metformin                 101766 non-null  object\n",
      " 25  repaglinide               101766 non-null  object\n",
      " 26  nateglinide               101766 non-null  object\n",
      " 27  chlorpropamide            101766 non-null  object\n",
      " 28  glimepiride               101766 non-null  object\n",
      " 29  acetohexamide             101766 non-null  object\n",
      " 30  glipizide                 101766 non-null  object\n",
      " 31  glyburide                 101766 non-null  object\n",
      " 32  tolbutamide               101766 non-null  object\n",
      " 33  pioglitazone              101766 non-null  object\n",
      " 34  rosiglitazone             101766 non-null  object\n",
      " 35  acarbose                  101766 non-null  object\n",
      " 36  miglitol                  101766 non-null  object\n",
      " 37  troglitazone              101766 non-null  object\n",
      " 38  tolazamide                101766 non-null  object\n",
      " 39  examide                   101766 non-null  object\n",
      " 40  citoglipton               101766 non-null  object\n",
      " 41  insulin                   101766 non-null  object\n",
      " 42  glyburide-metformin       101766 non-null  object\n",
      " 43  glipizide-metformin       101766 non-null  object\n",
      " 44  glimepiride-pioglitazone  101766 non-null  object\n",
      " 45  metformin-rosiglitazone   101766 non-null  object\n",
      " 46  metformin-pioglitazone    101766 non-null  object\n",
      " 47  change                    101766 non-null  object\n",
      " 48  diabetesMed               101766 non-null  object\n",
      " 49  readmitted                101766 non-null  object\n",
      "dtypes: int64(13), object(37)\n",
      "memory usage: 38.8+ MB\n"
     ]
    }
   ],
   "source": [
    "bd_diabetic_data.info()"
   ]
  },
  {
   "cell_type": "markdown",
   "metadata": {},
   "source": [
    "*Comprobar correcta lectura de datos*"
   ]
  },
  {
   "cell_type": "code",
   "execution_count": 6,
   "metadata": {},
   "outputs": [
    {
     "data": {
      "text/html": [
       "<div>\n",
       "<style scoped>\n",
       "    .dataframe tbody tr th:only-of-type {\n",
       "        vertical-align: middle;\n",
       "    }\n",
       "\n",
       "    .dataframe tbody tr th {\n",
       "        vertical-align: top;\n",
       "    }\n",
       "\n",
       "    .dataframe thead th {\n",
       "        text-align: right;\n",
       "    }\n",
       "</style>\n",
       "<table border=\"1\" class=\"dataframe\">\n",
       "  <thead>\n",
       "    <tr style=\"text-align: right;\">\n",
       "      <th></th>\n",
       "      <th>admission_source_id</th>\n",
       "      <th>description</th>\n",
       "    </tr>\n",
       "  </thead>\n",
       "  <tbody>\n",
       "    <tr>\n",
       "      <th>0</th>\n",
       "      <td>1</td>\n",
       "      <td>Physician Referral</td>\n",
       "    </tr>\n",
       "    <tr>\n",
       "      <th>1</th>\n",
       "      <td>2</td>\n",
       "      <td>Clinic Referral</td>\n",
       "    </tr>\n",
       "    <tr>\n",
       "      <th>2</th>\n",
       "      <td>3</td>\n",
       "      <td>HMO Referral</td>\n",
       "    </tr>\n",
       "    <tr>\n",
       "      <th>3</th>\n",
       "      <td>4</td>\n",
       "      <td>Transfer from a hospital</td>\n",
       "    </tr>\n",
       "    <tr>\n",
       "      <th>4</th>\n",
       "      <td>5</td>\n",
       "      <td>Transfer from a Skilled Nursing Facility (SNF)</td>\n",
       "    </tr>\n",
       "    <tr>\n",
       "      <th>5</th>\n",
       "      <td>6</td>\n",
       "      <td>Transfer from another health care facility</td>\n",
       "    </tr>\n",
       "    <tr>\n",
       "      <th>6</th>\n",
       "      <td>7</td>\n",
       "      <td>Emergency Room</td>\n",
       "    </tr>\n",
       "    <tr>\n",
       "      <th>7</th>\n",
       "      <td>8</td>\n",
       "      <td>Court/Law Enforcement</td>\n",
       "    </tr>\n",
       "    <tr>\n",
       "      <th>8</th>\n",
       "      <td>9</td>\n",
       "      <td>Not Available</td>\n",
       "    </tr>\n",
       "    <tr>\n",
       "      <th>9</th>\n",
       "      <td>10</td>\n",
       "      <td>Transfer from critial access hospital</td>\n",
       "    </tr>\n",
       "  </tbody>\n",
       "</table>\n",
       "</div>"
      ],
      "text/plain": [
       "   admission_source_id                                      description\n",
       "0                    1                               Physician Referral\n",
       "1                    2                                  Clinic Referral\n",
       "2                    3                                     HMO Referral\n",
       "3                    4                         Transfer from a hospital\n",
       "4                    5   Transfer from a Skilled Nursing Facility (SNF)\n",
       "5                    6       Transfer from another health care facility\n",
       "6                    7                                   Emergency Room\n",
       "7                    8                            Court/Law Enforcement\n",
       "8                    9                                    Not Available\n",
       "9                   10            Transfer from critial access hospital"
      ]
     },
     "execution_count": 6,
     "metadata": {},
     "output_type": "execute_result"
    }
   ],
   "source": [
    "bd_AdmissionSource.head(10)"
   ]
  },
  {
   "cell_type": "code",
   "execution_count": 8,
   "metadata": {
    "scrolled": true
   },
   "outputs": [
    {
     "data": {
      "text/html": [
       "<div>\n",
       "<style scoped>\n",
       "    .dataframe tbody tr th:only-of-type {\n",
       "        vertical-align: middle;\n",
       "    }\n",
       "\n",
       "    .dataframe tbody tr th {\n",
       "        vertical-align: top;\n",
       "    }\n",
       "\n",
       "    .dataframe thead th {\n",
       "        text-align: right;\n",
       "    }\n",
       "</style>\n",
       "<table border=\"1\" class=\"dataframe\">\n",
       "  <thead>\n",
       "    <tr style=\"text-align: right;\">\n",
       "      <th></th>\n",
       "      <th>admission_type_id</th>\n",
       "      <th>description</th>\n",
       "    </tr>\n",
       "  </thead>\n",
       "  <tbody>\n",
       "    <tr>\n",
       "      <th>0</th>\n",
       "      <td>1</td>\n",
       "      <td>Emergency</td>\n",
       "    </tr>\n",
       "    <tr>\n",
       "      <th>1</th>\n",
       "      <td>2</td>\n",
       "      <td>Urgent</td>\n",
       "    </tr>\n",
       "    <tr>\n",
       "      <th>2</th>\n",
       "      <td>3</td>\n",
       "      <td>Elective</td>\n",
       "    </tr>\n",
       "    <tr>\n",
       "      <th>3</th>\n",
       "      <td>4</td>\n",
       "      <td>Newborn</td>\n",
       "    </tr>\n",
       "    <tr>\n",
       "      <th>4</th>\n",
       "      <td>5</td>\n",
       "      <td>Not Available</td>\n",
       "    </tr>\n",
       "    <tr>\n",
       "      <th>5</th>\n",
       "      <td>6</td>\n",
       "      <td>None</td>\n",
       "    </tr>\n",
       "    <tr>\n",
       "      <th>6</th>\n",
       "      <td>7</td>\n",
       "      <td>Trauma Center</td>\n",
       "    </tr>\n",
       "    <tr>\n",
       "      <th>7</th>\n",
       "      <td>8</td>\n",
       "      <td>Not Mapped</td>\n",
       "    </tr>\n",
       "  </tbody>\n",
       "</table>\n",
       "</div>"
      ],
      "text/plain": [
       "   admission_type_id    description\n",
       "0                  1      Emergency\n",
       "1                  2         Urgent\n",
       "2                  3       Elective\n",
       "3                  4        Newborn\n",
       "4                  5  Not Available\n",
       "5                  6           None\n",
       "6                  7  Trauma Center\n",
       "7                  8     Not Mapped"
      ]
     },
     "execution_count": 8,
     "metadata": {},
     "output_type": "execute_result"
    }
   ],
   "source": [
    "bd_admission_type_id.head(10)"
   ]
  },
  {
   "cell_type": "code",
   "execution_count": 9,
   "metadata": {},
   "outputs": [
    {
     "data": {
      "text/html": [
       "<div>\n",
       "<style scoped>\n",
       "    .dataframe tbody tr th:only-of-type {\n",
       "        vertical-align: middle;\n",
       "    }\n",
       "\n",
       "    .dataframe tbody tr th {\n",
       "        vertical-align: top;\n",
       "    }\n",
       "\n",
       "    .dataframe thead th {\n",
       "        text-align: right;\n",
       "    }\n",
       "</style>\n",
       "<table border=\"1\" class=\"dataframe\">\n",
       "  <thead>\n",
       "    <tr style=\"text-align: right;\">\n",
       "      <th></th>\n",
       "      <th>discharge_disposition_id</th>\n",
       "      <th>description</th>\n",
       "    </tr>\n",
       "  </thead>\n",
       "  <tbody>\n",
       "    <tr>\n",
       "      <th>0</th>\n",
       "      <td>1</td>\n",
       "      <td>Discharged to home</td>\n",
       "    </tr>\n",
       "    <tr>\n",
       "      <th>1</th>\n",
       "      <td>2</td>\n",
       "      <td>Discharged/transferred to another short term h...</td>\n",
       "    </tr>\n",
       "    <tr>\n",
       "      <th>2</th>\n",
       "      <td>3</td>\n",
       "      <td>Discharged/transferred to SNF</td>\n",
       "    </tr>\n",
       "    <tr>\n",
       "      <th>3</th>\n",
       "      <td>4</td>\n",
       "      <td>Discharged/transferred to ICF</td>\n",
       "    </tr>\n",
       "    <tr>\n",
       "      <th>4</th>\n",
       "      <td>5</td>\n",
       "      <td>Discharged/transferred to another type of inpa...</td>\n",
       "    </tr>\n",
       "    <tr>\n",
       "      <th>5</th>\n",
       "      <td>6</td>\n",
       "      <td>Discharged/transferred to home with home healt...</td>\n",
       "    </tr>\n",
       "    <tr>\n",
       "      <th>6</th>\n",
       "      <td>7</td>\n",
       "      <td>Left AMA</td>\n",
       "    </tr>\n",
       "    <tr>\n",
       "      <th>7</th>\n",
       "      <td>8</td>\n",
       "      <td>Discharged/transferred to home under care of H...</td>\n",
       "    </tr>\n",
       "    <tr>\n",
       "      <th>8</th>\n",
       "      <td>9</td>\n",
       "      <td>Admitted as an inpatient to this hospital</td>\n",
       "    </tr>\n",
       "    <tr>\n",
       "      <th>9</th>\n",
       "      <td>10</td>\n",
       "      <td>Neonate discharged to another hospital for neo...</td>\n",
       "    </tr>\n",
       "  </tbody>\n",
       "</table>\n",
       "</div>"
      ],
      "text/plain": [
       "   discharge_disposition_id                                        description\n",
       "0                         1                                 Discharged to home\n",
       "1                         2  Discharged/transferred to another short term h...\n",
       "2                         3                      Discharged/transferred to SNF\n",
       "3                         4                      Discharged/transferred to ICF\n",
       "4                         5  Discharged/transferred to another type of inpa...\n",
       "5                         6  Discharged/transferred to home with home healt...\n",
       "6                         7                                           Left AMA\n",
       "7                         8  Discharged/transferred to home under care of H...\n",
       "8                         9          Admitted as an inpatient to this hospital\n",
       "9                        10  Neonate discharged to another hospital for neo..."
      ]
     },
     "execution_count": 9,
     "metadata": {},
     "output_type": "execute_result"
    }
   ],
   "source": [
    "bd_discharge_disposition_id.head(10)"
   ]
  },
  {
   "cell_type": "markdown",
   "metadata": {},
   "source": [
    "*Juntamos las bases de datos*"
   ]
  },
  {
   "cell_type": "code",
   "execution_count": 10,
   "metadata": {},
   "outputs": [],
   "source": [
    "bd_diabetes1 = pd.merge(bd_diabetic_data,bd_AdmissionSource, on = \"admission_source_id\", how = \"left\")\n",
    "bd_diabetes2 = pd.merge(bd_diabetes1,bd_admission_type_id, on = \"admission_type_id\", how = \"left\" )\n",
    "bd_full = pd.merge(bd_diabetes2,bd_discharge_disposition_id, on = \"discharge_disposition_id\", how  = \"left\")"
   ]
  },
  {
   "cell_type": "code",
   "execution_count": 11,
   "metadata": {},
   "outputs": [
    {
     "data": {
      "text/plain": [
       "(101766, 53)"
      ]
     },
     "execution_count": 11,
     "metadata": {},
     "output_type": "execute_result"
    }
   ],
   "source": [
    "bd_full.shape"
   ]
  },
  {
   "cell_type": "markdown",
   "metadata": {},
   "source": [
    "*Renombramos las variables por buenas prácticas*"
   ]
  },
  {
   "cell_type": "code",
   "execution_count": 12,
   "metadata": {},
   "outputs": [],
   "source": [
    "columnsNameDiabetes = [\"encounter_id\", \"patient_nbr\", \"race\", \"gender\", \"age\", \"weight\", \"admission_type_id\", \"discharge_disposition_id\",\n",
    "                       \"admission_source_id\", \"time_in_hospital\", \"payer_code\", \"medical_specialty\", \"num_lab_procedures\", \"num_procedures\",\n",
    "                       \"num_medications\", \"number_outpatient\", \"number_emergency\", \"number_inpatient\", \"diag_1\", \"diag_2\", \"diag_3\",\n",
    "                       \"number_diagnoses\", \"max_glu_serum\", \"a1c_result\", \"metformin\", \"repaglinide\", \"nateglinide\", \"chlorpropamide\",\n",
    "                       \"glimepiride\", \"acetohexamide\", \"glipizide\", \"glyburide\", \"tolbutamide\", \"pioglitazone\", \"rosiglitazone\", \"acarbose\",\n",
    "                       \"miglitol\", \"troglitazone\", \"tolazamide\", \"examide\", \"citoglipton\", \"insulin\", \"glyburide_metformin\", \"glipizide_metformin\",\n",
    "                       \"glimepiride_pioglitazone\", \"metformin_rosiglitazone\", \"metformin_pioglitazone\", \"change\", \"diabetes_med\", \"readmitted\",\n",
    "                       \"description_x\", \"description_y\", \"description\"]"
   ]
  },
  {
   "cell_type": "code",
   "execution_count": 13,
   "metadata": {},
   "outputs": [],
   "source": [
    "bd_full.columns = columnsNameDiabetes"
   ]
  },
  {
   "cell_type": "markdown",
   "metadata": {},
   "source": [
    "**3. Analizamos la variable target**"
   ]
  },
  {
   "cell_type": "code",
   "execution_count": 14,
   "metadata": {},
   "outputs": [
    {
     "name": "stdout",
     "output_type": "stream",
     "text": [
      "Número de filas: 101766\n",
      "Número de columnas: 53\n"
     ]
    }
   ],
   "source": [
    "print(\"Número de filas: \" + str(bd_full.shape[0]))\n",
    "print(\"Número de columnas: \" + str(bd_full.shape[1]))"
   ]
  },
  {
   "cell_type": "code",
   "execution_count": 15,
   "metadata": {},
   "outputs": [
    {
     "name": "stdout",
     "output_type": "stream",
     "text": [
      "<class 'pandas.core.frame.DataFrame'>\n",
      "Int64Index: 101766 entries, 0 to 101765\n",
      "Data columns (total 53 columns):\n",
      " #   Column                    Non-Null Count   Dtype \n",
      "---  ------                    --------------   ----- \n",
      " 0   encounter_id              101766 non-null  int64 \n",
      " 1   patient_nbr               101766 non-null  int64 \n",
      " 2   race                      101766 non-null  object\n",
      " 3   gender                    101766 non-null  object\n",
      " 4   age                       101766 non-null  object\n",
      " 5   weight                    101766 non-null  object\n",
      " 6   admission_type_id         101766 non-null  int64 \n",
      " 7   discharge_disposition_id  101766 non-null  int64 \n",
      " 8   admission_source_id       101766 non-null  int64 \n",
      " 9   time_in_hospital          101766 non-null  int64 \n",
      " 10  payer_code                101766 non-null  object\n",
      " 11  medical_specialty         101766 non-null  object\n",
      " 12  num_lab_procedures        101766 non-null  int64 \n",
      " 13  num_procedures            101766 non-null  int64 \n",
      " 14  num_medications           101766 non-null  int64 \n",
      " 15  number_outpatient         101766 non-null  int64 \n",
      " 16  number_emergency          101766 non-null  int64 \n",
      " 17  number_inpatient          101766 non-null  int64 \n",
      " 18  diag_1                    101766 non-null  object\n",
      " 19  diag_2                    101766 non-null  object\n",
      " 20  diag_3                    101766 non-null  object\n",
      " 21  number_diagnoses          101766 non-null  int64 \n",
      " 22  max_glu_serum             101766 non-null  object\n",
      " 23  a1c_result                101766 non-null  object\n",
      " 24  metformin                 101766 non-null  object\n",
      " 25  repaglinide               101766 non-null  object\n",
      " 26  nateglinide               101766 non-null  object\n",
      " 27  chlorpropamide            101766 non-null  object\n",
      " 28  glimepiride               101766 non-null  object\n",
      " 29  acetohexamide             101766 non-null  object\n",
      " 30  glipizide                 101766 non-null  object\n",
      " 31  glyburide                 101766 non-null  object\n",
      " 32  tolbutamide               101766 non-null  object\n",
      " 33  pioglitazone              101766 non-null  object\n",
      " 34  rosiglitazone             101766 non-null  object\n",
      " 35  acarbose                  101766 non-null  object\n",
      " 36  miglitol                  101766 non-null  object\n",
      " 37  troglitazone              101766 non-null  object\n",
      " 38  tolazamide                101766 non-null  object\n",
      " 39  examide                   101766 non-null  object\n",
      " 40  citoglipton               101766 non-null  object\n",
      " 41  insulin                   101766 non-null  object\n",
      " 42  glyburide_metformin       101766 non-null  object\n",
      " 43  glipizide_metformin       101766 non-null  object\n",
      " 44  glimepiride_pioglitazone  101766 non-null  object\n",
      " 45  metformin_rosiglitazone   101766 non-null  object\n",
      " 46  metformin_pioglitazone    101766 non-null  object\n",
      " 47  change                    101766 non-null  object\n",
      " 48  diabetes_med              101766 non-null  object\n",
      " 49  readmitted                101766 non-null  object\n",
      " 50  description_x             101766 non-null  object\n",
      " 51  description_y             101766 non-null  object\n",
      " 52  description               101766 non-null  object\n",
      "dtypes: int64(13), object(40)\n",
      "memory usage: 41.9+ MB\n"
     ]
    }
   ],
   "source": [
    "bd_full.info()"
   ]
  },
  {
   "cell_type": "code",
   "execution_count": 16,
   "metadata": {},
   "outputs": [
    {
     "data": {
      "text/html": [
       "<div>\n",
       "<style scoped>\n",
       "    .dataframe tbody tr th:only-of-type {\n",
       "        vertical-align: middle;\n",
       "    }\n",
       "\n",
       "    .dataframe tbody tr th {\n",
       "        vertical-align: top;\n",
       "    }\n",
       "\n",
       "    .dataframe thead th {\n",
       "        text-align: right;\n",
       "    }\n",
       "</style>\n",
       "<table border=\"1\" class=\"dataframe\">\n",
       "  <thead>\n",
       "    <tr style=\"text-align: right;\">\n",
       "      <th></th>\n",
       "      <th>encounter_id</th>\n",
       "      <th>patient_nbr</th>\n",
       "      <th>race</th>\n",
       "      <th>gender</th>\n",
       "      <th>age</th>\n",
       "      <th>weight</th>\n",
       "      <th>admission_type_id</th>\n",
       "      <th>discharge_disposition_id</th>\n",
       "      <th>admission_source_id</th>\n",
       "      <th>time_in_hospital</th>\n",
       "      <th>...</th>\n",
       "      <th>glipizide_metformin</th>\n",
       "      <th>glimepiride_pioglitazone</th>\n",
       "      <th>metformin_rosiglitazone</th>\n",
       "      <th>metformin_pioglitazone</th>\n",
       "      <th>change</th>\n",
       "      <th>diabetes_med</th>\n",
       "      <th>readmitted</th>\n",
       "      <th>description_x</th>\n",
       "      <th>description_y</th>\n",
       "      <th>description</th>\n",
       "    </tr>\n",
       "  </thead>\n",
       "  <tbody>\n",
       "    <tr>\n",
       "      <th>0</th>\n",
       "      <td>2278392</td>\n",
       "      <td>8222157</td>\n",
       "      <td>Caucasian</td>\n",
       "      <td>Female</td>\n",
       "      <td>[0-10)</td>\n",
       "      <td>?</td>\n",
       "      <td>6</td>\n",
       "      <td>25</td>\n",
       "      <td>1</td>\n",
       "      <td>1</td>\n",
       "      <td>...</td>\n",
       "      <td>No</td>\n",
       "      <td>No</td>\n",
       "      <td>No</td>\n",
       "      <td>No</td>\n",
       "      <td>No</td>\n",
       "      <td>No</td>\n",
       "      <td>NO</td>\n",
       "      <td>Physician Referral</td>\n",
       "      <td>None</td>\n",
       "      <td>Not Mapped</td>\n",
       "    </tr>\n",
       "    <tr>\n",
       "      <th>1</th>\n",
       "      <td>149190</td>\n",
       "      <td>55629189</td>\n",
       "      <td>Caucasian</td>\n",
       "      <td>Female</td>\n",
       "      <td>[10-20)</td>\n",
       "      <td>?</td>\n",
       "      <td>1</td>\n",
       "      <td>1</td>\n",
       "      <td>7</td>\n",
       "      <td>3</td>\n",
       "      <td>...</td>\n",
       "      <td>No</td>\n",
       "      <td>No</td>\n",
       "      <td>No</td>\n",
       "      <td>No</td>\n",
       "      <td>Ch</td>\n",
       "      <td>Yes</td>\n",
       "      <td>&gt;30</td>\n",
       "      <td>Emergency Room</td>\n",
       "      <td>Emergency</td>\n",
       "      <td>Discharged to home</td>\n",
       "    </tr>\n",
       "    <tr>\n",
       "      <th>2</th>\n",
       "      <td>64410</td>\n",
       "      <td>86047875</td>\n",
       "      <td>AfricanAmerican</td>\n",
       "      <td>Female</td>\n",
       "      <td>[20-30)</td>\n",
       "      <td>?</td>\n",
       "      <td>1</td>\n",
       "      <td>1</td>\n",
       "      <td>7</td>\n",
       "      <td>2</td>\n",
       "      <td>...</td>\n",
       "      <td>No</td>\n",
       "      <td>No</td>\n",
       "      <td>No</td>\n",
       "      <td>No</td>\n",
       "      <td>No</td>\n",
       "      <td>Yes</td>\n",
       "      <td>NO</td>\n",
       "      <td>Emergency Room</td>\n",
       "      <td>Emergency</td>\n",
       "      <td>Discharged to home</td>\n",
       "    </tr>\n",
       "    <tr>\n",
       "      <th>3</th>\n",
       "      <td>500364</td>\n",
       "      <td>82442376</td>\n",
       "      <td>Caucasian</td>\n",
       "      <td>Male</td>\n",
       "      <td>[30-40)</td>\n",
       "      <td>?</td>\n",
       "      <td>1</td>\n",
       "      <td>1</td>\n",
       "      <td>7</td>\n",
       "      <td>2</td>\n",
       "      <td>...</td>\n",
       "      <td>No</td>\n",
       "      <td>No</td>\n",
       "      <td>No</td>\n",
       "      <td>No</td>\n",
       "      <td>Ch</td>\n",
       "      <td>Yes</td>\n",
       "      <td>NO</td>\n",
       "      <td>Emergency Room</td>\n",
       "      <td>Emergency</td>\n",
       "      <td>Discharged to home</td>\n",
       "    </tr>\n",
       "    <tr>\n",
       "      <th>4</th>\n",
       "      <td>16680</td>\n",
       "      <td>42519267</td>\n",
       "      <td>Caucasian</td>\n",
       "      <td>Male</td>\n",
       "      <td>[40-50)</td>\n",
       "      <td>?</td>\n",
       "      <td>1</td>\n",
       "      <td>1</td>\n",
       "      <td>7</td>\n",
       "      <td>1</td>\n",
       "      <td>...</td>\n",
       "      <td>No</td>\n",
       "      <td>No</td>\n",
       "      <td>No</td>\n",
       "      <td>No</td>\n",
       "      <td>Ch</td>\n",
       "      <td>Yes</td>\n",
       "      <td>NO</td>\n",
       "      <td>Emergency Room</td>\n",
       "      <td>Emergency</td>\n",
       "      <td>Discharged to home</td>\n",
       "    </tr>\n",
       "  </tbody>\n",
       "</table>\n",
       "<p>5 rows × 53 columns</p>\n",
       "</div>"
      ],
      "text/plain": [
       "   encounter_id  patient_nbr             race  gender      age weight  \\\n",
       "0       2278392      8222157        Caucasian  Female   [0-10)      ?   \n",
       "1        149190     55629189        Caucasian  Female  [10-20)      ?   \n",
       "2         64410     86047875  AfricanAmerican  Female  [20-30)      ?   \n",
       "3        500364     82442376        Caucasian    Male  [30-40)      ?   \n",
       "4         16680     42519267        Caucasian    Male  [40-50)      ?   \n",
       "\n",
       "   admission_type_id  discharge_disposition_id  admission_source_id  \\\n",
       "0                  6                        25                    1   \n",
       "1                  1                         1                    7   \n",
       "2                  1                         1                    7   \n",
       "3                  1                         1                    7   \n",
       "4                  1                         1                    7   \n",
       "\n",
       "   time_in_hospital  ... glipizide_metformin glimepiride_pioglitazone  \\\n",
       "0                 1  ...                  No                       No   \n",
       "1                 3  ...                  No                       No   \n",
       "2                 2  ...                  No                       No   \n",
       "3                 2  ...                  No                       No   \n",
       "4                 1  ...                  No                       No   \n",
       "\n",
       "   metformin_rosiglitazone  metformin_pioglitazone  change  diabetes_med  \\\n",
       "0                       No                      No      No            No   \n",
       "1                       No                      No      Ch           Yes   \n",
       "2                       No                      No      No           Yes   \n",
       "3                       No                      No      Ch           Yes   \n",
       "4                       No                      No      Ch           Yes   \n",
       "\n",
       "   readmitted        description_x description_y         description  \n",
       "0          NO   Physician Referral          None          Not Mapped  \n",
       "1         >30       Emergency Room     Emergency  Discharged to home  \n",
       "2          NO       Emergency Room     Emergency  Discharged to home  \n",
       "3          NO       Emergency Room     Emergency  Discharged to home  \n",
       "4          NO       Emergency Room     Emergency  Discharged to home  \n",
       "\n",
       "[5 rows x 53 columns]"
      ]
     },
     "execution_count": 16,
     "metadata": {},
     "output_type": "execute_result"
    }
   ],
   "source": [
    "bd_full.head()"
   ]
  },
  {
   "cell_type": "code",
   "execution_count": 17,
   "metadata": {},
   "outputs": [
    {
     "data": {
      "text/plain": [
       "readmitted\n",
       "<30    11357\n",
       ">30    35545\n",
       "NO     54864\n",
       "dtype: int64"
      ]
     },
     "execution_count": 17,
     "metadata": {},
     "output_type": "execute_result"
    }
   ],
   "source": [
    "bd_full[\"readmitted\"].describe()\n",
    "bd_full.groupby(\"readmitted\").size()"
   ]
  },
  {
   "cell_type": "markdown",
   "metadata": {},
   "source": [
    "IMPORTANTE: Conocer el objetivo de estudio"
   ]
  },
  {
   "cell_type": "code",
   "execution_count": 18,
   "metadata": {},
   "outputs": [],
   "source": [
    "columnTarget = \"target\"\n",
    "bd_full[columnTarget] = bd_full[\"readmitted\"].map({\"NO\":0,\"<30\":1,\">30\":1})"
   ]
  },
  {
   "cell_type": "code",
   "execution_count": 19,
   "metadata": {},
   "outputs": [
    {
     "data": {
      "text/plain": [
       "target\n",
       "0    0.539119\n",
       "1    0.460881\n",
       "dtype: float64"
      ]
     },
     "execution_count": 19,
     "metadata": {},
     "output_type": "execute_result"
    }
   ],
   "source": [
    "bd_full.groupby(columnTarget).size()/bd_full.shape[0]"
   ]
  },
  {
   "cell_type": "code",
   "execution_count": 20,
   "metadata": {},
   "outputs": [
    {
     "name": "stderr",
     "output_type": "stream",
     "text": [
      "C:\\Users\\Administrativo\\anaconda3\\lib\\site-packages\\seaborn\\categorical.py:3669: UserWarning: The `factorplot` function has been renamed to `catplot`. The original name will be removed in a future release. Please update your code. Note that the default `kind` in `factorplot` (`'point'`) has changed `'strip'` in `catplot`.\n",
      "  warnings.warn(msg)\n"
     ]
    },
    {
     "data": {
      "text/plain": [
       "<seaborn.axisgrid.FacetGrid at 0x1bb18c0ca08>"
      ]
     },
     "execution_count": 20,
     "metadata": {},
     "output_type": "execute_result"
    },
    {
     "data": {
      "image/png": "[encoded data removed]",
      "text/plain": [
       "<Figure size 360x360 with 1 Axes>"
      ]
     },
     "metadata": {
      "needs_background": "light"
     },
     "output_type": "display_data"
    }
   ],
   "source": [
    "sns.factorplot('target',data=bd_full,kind=\"count\")"
   ]
  },
  {
   "cell_type": "code",
   "execution_count": 21,
   "metadata": {},
   "outputs": [
    {
     "data": {
      "text/html": [
       "<div>\n",
       "<style scoped>\n",
       "    .dataframe tbody tr th:only-of-type {\n",
       "        vertical-align: middle;\n",
       "    }\n",
       "\n",
       "    .dataframe tbody tr th {\n",
       "        vertical-align: top;\n",
       "    }\n",
       "\n",
       "    .dataframe thead th {\n",
       "        text-align: right;\n",
       "    }\n",
       "</style>\n",
       "<table border=\"1\" class=\"dataframe\">\n",
       "  <thead>\n",
       "    <tr style=\"text-align: right;\">\n",
       "      <th>target</th>\n",
       "      <th>0</th>\n",
       "      <th>1</th>\n",
       "    </tr>\n",
       "    <tr>\n",
       "      <th>readmitted</th>\n",
       "      <th></th>\n",
       "      <th></th>\n",
       "    </tr>\n",
       "  </thead>\n",
       "  <tbody>\n",
       "    <tr>\n",
       "      <th>&lt;30</th>\n",
       "      <td>0</td>\n",
       "      <td>11357</td>\n",
       "    </tr>\n",
       "    <tr>\n",
       "      <th>&gt;30</th>\n",
       "      <td>0</td>\n",
       "      <td>35545</td>\n",
       "    </tr>\n",
       "    <tr>\n",
       "      <th>NO</th>\n",
       "      <td>54864</td>\n",
       "      <td>0</td>\n",
       "    </tr>\n",
       "  </tbody>\n",
       "</table>\n",
       "</div>"
      ],
      "text/plain": [
       "target          0      1\n",
       "readmitted              \n",
       "<30             0  11357\n",
       ">30             0  35545\n",
       "NO          54864      0"
      ]
     },
     "execution_count": 21,
     "metadata": {},
     "output_type": "execute_result"
    }
   ],
   "source": [
    "pd.crosstab(bd_full[\"readmitted\"],bd_full[\"target\"])"
   ]
  },
  {
   "cell_type": "markdown",
   "metadata": {},
   "source": [
    "**4. Diferenciamos los tipos de variables por buenas practicas**"
   ]
  },
  {
   "cell_type": "code",
   "execution_count": 22,
   "metadata": {},
   "outputs": [],
   "source": [
    "columnsNumeric = [\"time_in_hospital\", \"num_lab_procedures\", \"num_procedures\", \"num_medications\", \"number_outpatient\", \"number_emergency\",\n",
    "                   \"number_inpatient\", \"number_diagnoses\"]\n",
    "columnsString = [\"race\", \"gender\", \"age\", \"weight\", \"payer_code\", \"medical_specialty\", \"diag_1\", \"diag_2\", \"diag_3\",\n",
    "                   \"max_glu_serum\", \"a1c_result\", \"metformin\", \"repaglinide\", \"nateglinide\", \"chlorpropamide\", \"glimepiride\", \"acetohexamide\",\n",
    "                   \"glipizide\", \"glyburide\", \"tolbutamide\", \"pioglitazone\", \"rosiglitazone\", \"acarbose\", \"miglitol\", \"troglitazone\", \"tolazamide\",\n",
    "                   \"examide\", \"citoglipton\", \"insulin\", \"glyburide_metformin\", \"glipizide_metformin\", \"glimepiride_pioglitazone\", \"metformin_rosiglitazone\",\n",
    "                   \"metformin_pioglitazone\", \"change\", \"diabetes_med\", \"description_x\", \"description_y\", \"description\"]\n",
    "columnTarget = \"target\""
   ]
  },
  {
   "cell_type": "markdown",
   "metadata": {},
   "source": [
    "*Estudiamos las variables numericas*"
   ]
  },
  {
   "cell_type": "code",
   "execution_count": 23,
   "metadata": {},
   "outputs": [
    {
     "data": {
      "text/html": [
       "<div>\n",
       "<style scoped>\n",
       "    .dataframe tbody tr th:only-of-type {\n",
       "        vertical-align: middle;\n",
       "    }\n",
       "\n",
       "    .dataframe tbody tr th {\n",
       "        vertical-align: top;\n",
       "    }\n",
       "\n",
       "    .dataframe thead th {\n",
       "        text-align: right;\n",
       "    }\n",
       "</style>\n",
       "<table border=\"1\" class=\"dataframe\">\n",
       "  <thead>\n",
       "    <tr style=\"text-align: right;\">\n",
       "      <th></th>\n",
       "      <th>time_in_hospital</th>\n",
       "      <th>num_lab_procedures</th>\n",
       "      <th>num_procedures</th>\n",
       "      <th>num_medications</th>\n",
       "      <th>number_outpatient</th>\n",
       "      <th>number_emergency</th>\n",
       "      <th>number_inpatient</th>\n",
       "      <th>number_diagnoses</th>\n",
       "    </tr>\n",
       "  </thead>\n",
       "  <tbody>\n",
       "    <tr>\n",
       "      <th>count</th>\n",
       "      <td>101766.000000</td>\n",
       "      <td>101766.000000</td>\n",
       "      <td>101766.000000</td>\n",
       "      <td>101766.000000</td>\n",
       "      <td>101766.000000</td>\n",
       "      <td>101766.000000</td>\n",
       "      <td>101766.000000</td>\n",
       "      <td>101766.000000</td>\n",
       "    </tr>\n",
       "    <tr>\n",
       "      <th>mean</th>\n",
       "      <td>4.395987</td>\n",
       "      <td>43.095641</td>\n",
       "      <td>1.339730</td>\n",
       "      <td>16.021844</td>\n",
       "      <td>0.369357</td>\n",
       "      <td>0.197836</td>\n",
       "      <td>0.635566</td>\n",
       "      <td>7.422607</td>\n",
       "    </tr>\n",
       "    <tr>\n",
       "      <th>std</th>\n",
       "      <td>2.985108</td>\n",
       "      <td>19.674362</td>\n",
       "      <td>1.705807</td>\n",
       "      <td>8.127566</td>\n",
       "      <td>1.267265</td>\n",
       "      <td>0.930472</td>\n",
       "      <td>1.262863</td>\n",
       "      <td>1.933600</td>\n",
       "    </tr>\n",
       "    <tr>\n",
       "      <th>min</th>\n",
       "      <td>1.000000</td>\n",
       "      <td>1.000000</td>\n",
       "      <td>0.000000</td>\n",
       "      <td>1.000000</td>\n",
       "      <td>0.000000</td>\n",
       "      <td>0.000000</td>\n",
       "      <td>0.000000</td>\n",
       "      <td>1.000000</td>\n",
       "    </tr>\n",
       "    <tr>\n",
       "      <th>25%</th>\n",
       "      <td>2.000000</td>\n",
       "      <td>31.000000</td>\n",
       "      <td>0.000000</td>\n",
       "      <td>10.000000</td>\n",
       "      <td>0.000000</td>\n",
       "      <td>0.000000</td>\n",
       "      <td>0.000000</td>\n",
       "      <td>6.000000</td>\n",
       "    </tr>\n",
       "    <tr>\n",
       "      <th>50%</th>\n",
       "      <td>4.000000</td>\n",
       "      <td>44.000000</td>\n",
       "      <td>1.000000</td>\n",
       "      <td>15.000000</td>\n",
       "      <td>0.000000</td>\n",
       "      <td>0.000000</td>\n",
       "      <td>0.000000</td>\n",
       "      <td>8.000000</td>\n",
       "    </tr>\n",
       "    <tr>\n",
       "      <th>75%</th>\n",
       "      <td>6.000000</td>\n",
       "      <td>57.000000</td>\n",
       "      <td>2.000000</td>\n",
       "      <td>20.000000</td>\n",
       "      <td>0.000000</td>\n",
       "      <td>0.000000</td>\n",
       "      <td>1.000000</td>\n",
       "      <td>9.000000</td>\n",
       "    </tr>\n",
       "    <tr>\n",
       "      <th>max</th>\n",
       "      <td>14.000000</td>\n",
       "      <td>132.000000</td>\n",
       "      <td>6.000000</td>\n",
       "      <td>81.000000</td>\n",
       "      <td>42.000000</td>\n",
       "      <td>76.000000</td>\n",
       "      <td>21.000000</td>\n",
       "      <td>16.000000</td>\n",
       "    </tr>\n",
       "  </tbody>\n",
       "</table>\n",
       "</div>"
      ],
      "text/plain": [
       "       time_in_hospital  num_lab_procedures  num_procedures  num_medications  \\\n",
       "count     101766.000000       101766.000000   101766.000000    101766.000000   \n",
       "mean           4.395987           43.095641        1.339730        16.021844   \n",
       "std            2.985108           19.674362        1.705807         8.127566   \n",
       "min            1.000000            1.000000        0.000000         1.000000   \n",
       "25%            2.000000           31.000000        0.000000        10.000000   \n",
       "50%            4.000000           44.000000        1.000000        15.000000   \n",
       "75%            6.000000           57.000000        2.000000        20.000000   \n",
       "max           14.000000          132.000000        6.000000        81.000000   \n",
       "\n",
       "       number_outpatient  number_emergency  number_inpatient  number_diagnoses  \n",
       "count      101766.000000     101766.000000     101766.000000     101766.000000  \n",
       "mean            0.369357          0.197836          0.635566          7.422607  \n",
       "std             1.267265          0.930472          1.262863          1.933600  \n",
       "min             0.000000          0.000000          0.000000          1.000000  \n",
       "25%             0.000000          0.000000          0.000000          6.000000  \n",
       "50%             0.000000          0.000000          0.000000          8.000000  \n",
       "75%             0.000000          0.000000          1.000000          9.000000  \n",
       "max            42.000000         76.000000         21.000000         16.000000  "
      ]
     },
     "execution_count": 23,
     "metadata": {},
     "output_type": "execute_result"
    }
   ],
   "source": [
    "bd_full[columnsNumeric].describe()"
   ]
  },
  {
   "cell_type": "markdown",
   "metadata": {},
   "source": [
    "*analizamos las varianzas mas cercanas a cero*"
   ]
  },
  {
   "cell_type": "code",
   "execution_count": 24,
   "metadata": {},
   "outputs": [
    {
     "data": {
      "text/plain": [
       "num_lab_procedures    387.080530\n",
       "num_medications        66.057332\n",
       "time_in_hospital        8.910868\n",
       "number_diagnoses        3.738810\n",
       "num_procedures          2.909777\n",
       "number_outpatient       1.605961\n",
       "number_inpatient        1.594824\n",
       "number_emergency        0.865779\n",
       "dtype: float64"
      ]
     },
     "execution_count": 24,
     "metadata": {},
     "output_type": "execute_result"
    }
   ],
   "source": [
    "bd_full[columnsNumeric].var().sort_values(ascending = False)"
   ]
  },
  {
   "cell_type": "markdown",
   "metadata": {},
   "source": [
    "*Hacemos un analisis de frecuencia a la variable: number_emergency porqeu tiene la varianza mas pequeña*"
   ]
  },
  {
   "cell_type": "code",
   "execution_count": 25,
   "metadata": {},
   "outputs": [
    {
     "data": {
      "text/plain": [
       "number_emergency\n",
       "0     0.888145\n",
       "1     0.075438\n",
       "2     0.020066\n",
       "3     0.007124\n",
       "4     0.003675\n",
       "5     0.001887\n",
       "6     0.000924\n",
       "7     0.000717\n",
       "8     0.000491\n",
       "9     0.000324\n",
       "10    0.000334\n",
       "11    0.000226\n",
       "12    0.000098\n",
       "13    0.000118\n",
       "14    0.000029\n",
       "15    0.000029\n",
       "16    0.000049\n",
       "18    0.000049\n",
       "19    0.000039\n",
       "20    0.000039\n",
       "21    0.000020\n",
       "22    0.000059\n",
       "24    0.000010\n",
       "25    0.000020\n",
       "28    0.000010\n",
       "29    0.000010\n",
       "37    0.000010\n",
       "42    0.000010\n",
       "46    0.000010\n",
       "54    0.000010\n",
       "63    0.000010\n",
       "64    0.000010\n",
       "76    0.000010\n",
       "dtype: float64"
      ]
     },
     "execution_count": 25,
     "metadata": {},
     "output_type": "execute_result"
    }
   ],
   "source": [
    "bd_full.groupby(\"number_emergency\").size()/bd_full[\"number_emergency\"].shape[0]"
   ]
  },
  {
   "cell_type": "markdown",
   "metadata": {},
   "source": [
    "*Revisamos las frecuencias de las variables numéricas*"
   ]
  },
  {
   "cell_type": "code",
   "execution_count": 26,
   "metadata": {},
   "outputs": [
    {
     "data": {
      "image/png": "[encoded data removed]",
      "text/plain": [
       "<Figure size 1440x1080 with 9 Axes>"
      ]
     },
     "metadata": {
      "needs_background": "light"
     },
     "output_type": "display_data"
    }
   ],
   "source": [
    "bd_full[columnsNumeric].hist(bins = 50, figsize=(20,15))\n",
    "plt.show()"
   ]
  },
  {
   "cell_type": "code",
   "execution_count": 27,
   "metadata": {},
   "outputs": [],
   "source": [
    "def frecuencia (x):\n",
    "    frec = bd_full.groupby(x).size()/bd_full[x].shape[0]\n",
    "    print(frec)\n",
    "    print(\"\\n\")"
   ]
  },
  {
   "cell_type": "markdown",
   "metadata": {},
   "source": [
    "*A las variables \"number_outpatient\", \"number_emergency\" y \"number_inpatient\" hacemos un analisis de frecuencia*"
   ]
  },
  {
   "cell_type": "code",
   "execution_count": 28,
   "metadata": {},
   "outputs": [
    {
     "name": "stdout",
     "output_type": "stream",
     "text": [
      "number_outpatient\n",
      "0     0.835515\n",
      "1     0.083987\n",
      "2     0.035316\n",
      "3     0.020066\n",
      "4     0.010799\n",
      "5     0.005238\n",
      "6     0.002977\n",
      "7     0.001523\n",
      "8     0.000963\n",
      "9     0.000816\n",
      "10    0.000560\n",
      "11    0.000413\n",
      "12    0.000295\n",
      "13    0.000305\n",
      "14    0.000275\n",
      "15    0.000197\n",
      "16    0.000147\n",
      "17    0.000079\n",
      "18    0.000049\n",
      "19    0.000029\n",
      "20    0.000069\n",
      "21    0.000069\n",
      "22    0.000049\n",
      "23    0.000020\n",
      "24    0.000029\n",
      "25    0.000020\n",
      "26    0.000020\n",
      "27    0.000029\n",
      "28    0.000010\n",
      "29    0.000020\n",
      "33    0.000020\n",
      "34    0.000010\n",
      "35    0.000020\n",
      "36    0.000020\n",
      "37    0.000010\n",
      "38    0.000010\n",
      "39    0.000010\n",
      "40    0.000010\n",
      "42    0.000010\n",
      "dtype: float64\n",
      "\n",
      "\n",
      "None\n",
      "number_emergency\n",
      "0     0.888145\n",
      "1     0.075438\n",
      "2     0.020066\n",
      "3     0.007124\n",
      "4     0.003675\n",
      "5     0.001887\n",
      "6     0.000924\n",
      "7     0.000717\n",
      "8     0.000491\n",
      "9     0.000324\n",
      "10    0.000334\n",
      "11    0.000226\n",
      "12    0.000098\n",
      "13    0.000118\n",
      "14    0.000029\n",
      "15    0.000029\n",
      "16    0.000049\n",
      "18    0.000049\n",
      "19    0.000039\n",
      "20    0.000039\n",
      "21    0.000020\n",
      "22    0.000059\n",
      "24    0.000010\n",
      "25    0.000020\n",
      "28    0.000010\n",
      "29    0.000010\n",
      "37    0.000010\n",
      "42    0.000010\n",
      "46    0.000010\n",
      "54    0.000010\n",
      "63    0.000010\n",
      "64    0.000010\n",
      "76    0.000010\n",
      "dtype: float64\n",
      "\n",
      "\n",
      "None\n",
      "number_inpatient\n",
      "0     0.664564\n",
      "1     0.191822\n",
      "2     0.074347\n",
      "3     0.033518\n",
      "4     0.015939\n",
      "5     0.007979\n",
      "6     0.004717\n",
      "7     0.002633\n",
      "8     0.001484\n",
      "9     0.001091\n",
      "10    0.000599\n",
      "11    0.000481\n",
      "12    0.000334\n",
      "13    0.000197\n",
      "14    0.000098\n",
      "15    0.000088\n",
      "16    0.000059\n",
      "17    0.000010\n",
      "18    0.000010\n",
      "19    0.000020\n",
      "21    0.000010\n",
      "dtype: float64\n",
      "\n",
      "\n",
      "None\n"
     ]
    }
   ],
   "source": [
    "print(frecuencia(\"number_outpatient\"))\n",
    "print(frecuencia(\"number_emergency\"))\n",
    "print(frecuencia(\"number_inpatient\"))"
   ]
  },
  {
   "cell_type": "markdown",
   "metadata": {},
   "source": [
    "*Viendo presencia de valores perdidos*"
   ]
  },
  {
   "cell_type": "code",
   "execution_count": 29,
   "metadata": {},
   "outputs": [
    {
     "name": "stdout",
     "output_type": "stream",
     "text": [
      "time_in_hospital\n",
      "0\n",
      "\n",
      "\n",
      "num_lab_procedures\n",
      "0\n",
      "\n",
      "\n",
      "num_procedures\n",
      "0\n",
      "\n",
      "\n",
      "num_medications\n",
      "0\n",
      "\n",
      "\n",
      "number_outpatient\n",
      "0\n",
      "\n",
      "\n",
      "number_emergency\n",
      "0\n",
      "\n",
      "\n",
      "number_inpatient\n",
      "0\n",
      "\n",
      "\n",
      "number_diagnoses\n",
      "0\n",
      "\n",
      "\n"
     ]
    }
   ],
   "source": [
    "for x in columnsNumeric:\n",
    "    print(x)\n",
    "    print(bd_full.loc[(pd.isna(bd_full[x]))].shape[0])\n",
    "    print(\"\\n\")"
   ]
  },
  {
   "cell_type": "markdown",
   "metadata": {},
   "source": [
    "*Viendo presencia de atípicos*"
   ]
  },
  {
   "cell_type": "code",
   "execution_count": 30,
   "metadata": {},
   "outputs": [
    {
     "data": {
      "image/png": "[encoded data removed]",
      "text/plain": [
       "<Figure size 432x288 with 1 Axes>"
      ]
     },
     "metadata": {
      "needs_background": "light"
     },
     "output_type": "display_data"
    },
    {
     "data": {
      "image/png": "[encoded data removed]",
      "text/plain": [
       "<Figure size 432x288 with 1 Axes>"
      ]
     },
     "metadata": {
      "needs_background": "light"
     },
     "output_type": "display_data"
    },
    {
     "data": {
      "image/png": "[encoded data removed]",
      "text/plain": [
       "<Figure size 432x288 with 1 Axes>"
      ]
     },
     "metadata": {
      "needs_background": "light"
     },
     "output_type": "display_data"
    },
    {
     "data": {
      "image/png": "[encoded data removed]",
      "text/plain": [
       "<Figure size 432x288 with 1 Axes>"
      ]
     },
     "metadata": {
      "needs_background": "light"
     },
     "output_type": "display_data"
    },
    {
     "data": {
      "image/png": "[encoded data removed]",
      "text/plain": [
       "<Figure size 432x288 with 1 Axes>"
      ]
     },
     "metadata": {
      "needs_background": "light"
     },
     "output_type": "display_data"
    },
    {
     "data": {
      "image/png": "[encoded data removed]",
      "text/plain": [
       "<Figure size 432x288 with 1 Axes>"
      ]
     },
     "metadata": {
      "needs_background": "light"
     },
     "output_type": "display_data"
    },
    {
     "data": {
      "image/png": "[encoded data removed]",
      "text/plain": [
       "<Figure size 432x288 with 1 Axes>"
      ]
     },
     "metadata": {
      "needs_background": "light"
     },
     "output_type": "display_data"
    },
    {
     "data": {
      "image/png": "[encoded data removed]",
      "text/plain": [
       "<Figure size 432x288 with 1 Axes>"
      ]
     },
     "metadata": {
      "needs_background": "light"
     },
     "output_type": "display_data"
    }
   ],
   "source": [
    "for x in bd_full[columnsNumeric].columns:\n",
    "    plt.title(x)\n",
    "    plt.boxplot(bd_full[x] , 0, 'gD')\n",
    "    plt.show()"
   ]
  },
  {
   "cell_type": "code",
   "execution_count": 31,
   "metadata": {},
   "outputs": [],
   "source": [
    "# Función de Identificar Outliers:\n",
    "def calcularOutliars(x):\n",
    "  Q01 = x.quantile(0.25)\n",
    "  Q03 = x.quantile(0.75)\n",
    "  IQR = Q03 - Q01\n",
    "  a = (x < (Q01 - 1.5 * IQR)) | (x > (Q03 + 1.5 * IQR))\n",
    "  numOutliars = a[a == True].shape[0]\n",
    "  pornumOutliars = numOutliars/x.shape[0]\n",
    "  return pornumOutliars"
   ]
  },
  {
   "cell_type": "code",
   "execution_count": 32,
   "metadata": {},
   "outputs": [
    {
     "data": {
      "text/plain": [
       "0.022129198357015115"
      ]
     },
     "execution_count": 32,
     "metadata": {},
     "output_type": "execute_result"
    }
   ],
   "source": [
    "calcularOutliars(bd_full[\"time_in_hospital\"])"
   ]
  },
  {
   "cell_type": "code",
   "execution_count": 33,
   "metadata": {},
   "outputs": [
    {
     "name": "stdout",
     "output_type": "stream",
     "text": [
      "time_in_hospital\n",
      "0.022129198357015115\n",
      "\n",
      "\n",
      "num_lab_procedures\n",
      "0.0014051844427411906\n",
      "\n",
      "\n",
      "num_procedures\n",
      "0.04868030579957943\n",
      "\n",
      "\n",
      "num_medications\n",
      "0.025126270070554017\n",
      "\n",
      "\n",
      "number_outpatient\n",
      "0.16448519151779573\n",
      "\n",
      "\n",
      "number_emergency\n",
      "0.11185464693512569\n",
      "\n",
      "\n",
      "number_inpatient\n",
      "0.0692667492089696\n",
      "\n",
      "\n",
      "number_diagnoses\n",
      "0.0027612365623096123\n",
      "\n",
      "\n"
     ]
    }
   ],
   "source": [
    "for x in columnsNumeric:\n",
    "    print(x)\n",
    "    print(calcularOutliars(bd_full[x]))\n",
    "    print(\"\\n\")"
   ]
  },
  {
   "cell_type": "markdown",
   "metadata": {},
   "source": [
    "*Observamos que se acumulan en 0 pero no en un 90% (no en la gran mayoria), lo tendremos en cuenta en la exploración de datos para descartarlas de ser necesario con más evidencia (mean encoding)*"
   ]
  },
  {
   "cell_type": "markdown",
   "metadata": {},
   "source": [
    "**Para las variables categoricas vemos sus distribuciones**"
   ]
  },
  {
   "cell_type": "code",
   "execution_count": 34,
   "metadata": {},
   "outputs": [
    {
     "name": "stdout",
     "output_type": "stream",
     "text": [
      "race\n",
      "race\n",
      "?                   2273\n",
      "AfricanAmerican    19210\n",
      "Asian                641\n",
      "Caucasian          76099\n",
      "Hispanic            2037\n",
      "Other               1506\n",
      "dtype: int64\n",
      "\n",
      "\n",
      "gender\n",
      "gender\n",
      "Female             54708\n",
      "Male               47055\n",
      "Unknown/Invalid        3\n",
      "dtype: int64\n",
      "\n",
      "\n",
      "age\n",
      "age\n",
      "[0-10)        161\n",
      "[10-20)       691\n",
      "[20-30)      1657\n",
      "[30-40)      3775\n",
      "[40-50)      9685\n",
      "[50-60)     17256\n",
      "[60-70)     22483\n",
      "[70-80)     26068\n",
      "[80-90)     17197\n",
      "[90-100)     2793\n",
      "dtype: int64\n",
      "\n",
      "\n",
      "weight\n",
      "weight\n",
      ">200             3\n",
      "?            98569\n",
      "[0-25)          48\n",
      "[100-125)      625\n",
      "[125-150)      145\n",
      "[150-175)       35\n",
      "[175-200)       11\n",
      "[25-50)         97\n",
      "[50-75)        897\n",
      "[75-100)      1336\n",
      "dtype: int64\n",
      "\n",
      "\n",
      "payer_code\n",
      "payer_code\n",
      "?     40256\n",
      "BC     4655\n",
      "CH      146\n",
      "CM     1937\n",
      "CP     2533\n",
      "DM      549\n",
      "FR        1\n",
      "HM     6274\n",
      "MC    32439\n",
      "MD     3532\n",
      "MP       79\n",
      "OG     1033\n",
      "OT       95\n",
      "PO      592\n",
      "SI       55\n",
      "SP     5007\n",
      "UN     2448\n",
      "WC      135\n",
      "dtype: int64\n",
      "\n",
      "\n",
      "medical_specialty\n",
      "medical_specialty\n",
      "?                                   49949\n",
      "AllergyandImmunology                    7\n",
      "Anesthesiology                         12\n",
      "Anesthesiology-Pediatric               19\n",
      "Cardiology                           5352\n",
      "                                    ...  \n",
      "Surgery-PlasticwithinHeadandNeck        1\n",
      "Surgery-Thoracic                      109\n",
      "Surgery-Vascular                      533\n",
      "SurgicalSpecialty                      33\n",
      "Urology                               685\n",
      "Length: 73, dtype: int64\n",
      "\n",
      "\n",
      "diag_1\n",
      "diag_1\n",
      "10      1\n",
      "11     10\n",
      "110     2\n",
      "112    73\n",
      "114     1\n",
      "       ..\n",
      "V63     8\n",
      "V66     2\n",
      "V67     1\n",
      "V70     1\n",
      "V71     9\n",
      "Length: 717, dtype: int64\n",
      "\n",
      "\n",
      "diag_2\n",
      "diag_2\n",
      "11       3\n",
      "110      8\n",
      "111      1\n",
      "112    201\n",
      "114      1\n",
      "      ... \n",
      "V69      1\n",
      "V70      7\n",
      "V72     13\n",
      "V85    169\n",
      "V86      2\n",
      "Length: 749, dtype: int64\n",
      "\n",
      "\n",
      "diag_3\n",
      "diag_3\n",
      "11       2\n",
      "110     20\n",
      "111      1\n",
      "112    206\n",
      "115      1\n",
      "      ... \n",
      "V66     18\n",
      "V70      2\n",
      "V72      8\n",
      "V85     96\n",
      "V86      3\n",
      "Length: 790, dtype: int64\n",
      "\n",
      "\n",
      "max_glu_serum\n",
      "max_glu_serum\n",
      ">200     1485\n",
      ">300     1264\n",
      "None    96420\n",
      "Norm     2597\n",
      "dtype: int64\n",
      "\n",
      "\n",
      "a1c_result\n",
      "a1c_result\n",
      ">7       3812\n",
      ">8       8216\n",
      "None    84748\n",
      "Norm     4990\n",
      "dtype: int64\n",
      "\n",
      "\n",
      "metformin\n",
      "metformin\n",
      "Down        575\n",
      "No        81778\n",
      "Steady    18346\n",
      "Up         1067\n",
      "dtype: int64\n",
      "\n",
      "\n",
      "repaglinide\n",
      "repaglinide\n",
      "Down          45\n",
      "No        100227\n",
      "Steady      1384\n",
      "Up           110\n",
      "dtype: int64\n",
      "\n",
      "\n",
      "nateglinide\n",
      "nateglinide\n",
      "Down          11\n",
      "No        101063\n",
      "Steady       668\n",
      "Up            24\n",
      "dtype: int64\n",
      "\n",
      "\n",
      "chlorpropamide\n",
      "chlorpropamide\n",
      "Down           1\n",
      "No        101680\n",
      "Steady        79\n",
      "Up             6\n",
      "dtype: int64\n",
      "\n",
      "\n",
      "glimepiride\n",
      "glimepiride\n",
      "Down        194\n",
      "No        96575\n",
      "Steady     4670\n",
      "Up          327\n",
      "dtype: int64\n",
      "\n",
      "\n",
      "acetohexamide\n",
      "acetohexamide\n",
      "No        101765\n",
      "Steady         1\n",
      "dtype: int64\n",
      "\n",
      "\n",
      "glipizide\n",
      "glipizide\n",
      "Down        560\n",
      "No        89080\n",
      "Steady    11356\n",
      "Up          770\n",
      "dtype: int64\n",
      "\n",
      "\n",
      "glyburide\n",
      "glyburide\n",
      "Down        564\n",
      "No        91116\n",
      "Steady     9274\n",
      "Up          812\n",
      "dtype: int64\n",
      "\n",
      "\n",
      "tolbutamide\n",
      "tolbutamide\n",
      "No        101743\n",
      "Steady        23\n",
      "dtype: int64\n",
      "\n",
      "\n",
      "pioglitazone\n",
      "pioglitazone\n",
      "Down        118\n",
      "No        94438\n",
      "Steady     6976\n",
      "Up          234\n",
      "dtype: int64\n",
      "\n",
      "\n",
      "rosiglitazone\n",
      "rosiglitazone\n",
      "Down         87\n",
      "No        95401\n",
      "Steady     6100\n",
      "Up          178\n",
      "dtype: int64\n",
      "\n",
      "\n",
      "acarbose\n",
      "acarbose\n",
      "Down           3\n",
      "No        101458\n",
      "Steady       295\n",
      "Up            10\n",
      "dtype: int64\n",
      "\n",
      "\n",
      "miglitol\n",
      "miglitol\n",
      "Down           5\n",
      "No        101728\n",
      "Steady        31\n",
      "Up             2\n",
      "dtype: int64\n",
      "\n",
      "\n",
      "troglitazone\n",
      "troglitazone\n",
      "No        101763\n",
      "Steady         3\n",
      "dtype: int64\n",
      "\n",
      "\n",
      "tolazamide\n",
      "tolazamide\n",
      "No        101727\n",
      "Steady        38\n",
      "Up             1\n",
      "dtype: int64\n",
      "\n",
      "\n",
      "examide\n",
      "examide\n",
      "No    101766\n",
      "dtype: int64\n",
      "\n",
      "\n",
      "citoglipton\n",
      "citoglipton\n",
      "No    101766\n",
      "dtype: int64\n",
      "\n",
      "\n",
      "insulin\n",
      "insulin\n",
      "Down      12218\n",
      "No        47383\n",
      "Steady    30849\n",
      "Up        11316\n",
      "dtype: int64\n",
      "\n",
      "\n",
      "glyburide_metformin\n",
      "glyburide_metformin\n",
      "Down           6\n",
      "No        101060\n",
      "Steady       692\n",
      "Up             8\n",
      "dtype: int64\n",
      "\n",
      "\n",
      "glipizide_metformin\n",
      "glipizide_metformin\n",
      "No        101753\n",
      "Steady        13\n",
      "dtype: int64\n",
      "\n",
      "\n",
      "glimepiride_pioglitazone\n",
      "glimepiride_pioglitazone\n",
      "No        101765\n",
      "Steady         1\n",
      "dtype: int64\n",
      "\n",
      "\n",
      "metformin_rosiglitazone\n",
      "metformin_rosiglitazone\n",
      "No        101764\n",
      "Steady         2\n",
      "dtype: int64\n",
      "\n",
      "\n",
      "metformin_pioglitazone\n",
      "metformin_pioglitazone\n",
      "No        101765\n",
      "Steady         1\n",
      "dtype: int64\n",
      "\n",
      "\n",
      "change\n",
      "change\n",
      "Ch    47011\n",
      "No    54755\n",
      "dtype: int64\n",
      "\n",
      "\n",
      "diabetes_med\n",
      "diabetes_med\n",
      "No     23403\n",
      "Yes    78363\n",
      "dtype: int64\n",
      "\n",
      "\n",
      "description_x\n",
      "description_x\n",
      " Court/Law Enforcement                                           16\n",
      " Emergency Room                                               57494\n",
      " Extramural Birth                                                 2\n",
      " Not Available                                                  125\n",
      " Not Mapped                                                     161\n",
      " Physician Referral                                           29565\n",
      " Sick Baby                                                        1\n",
      " Transfer from Ambulatory Surgery Center                          2\n",
      " Transfer from a Skilled Nursing Facility (SNF)                 855\n",
      " Transfer from another health care facility                    2264\n",
      " Transfer from critial access hospital                            8\n",
      " Transfer from hospital inpt/same fac reslt in a sep claim       12\n",
      "Clinic Referral                                                1104\n",
      "HMO Referral                                                    187\n",
      "None                                                           6781\n",
      "Normal Delivery                                                   2\n",
      "Transfer from a hospital                                       3187\n",
      "dtype: int64\n",
      "\n",
      "\n",
      "description_y\n",
      "description_y\n",
      "Elective         18869\n",
      "Emergency        53990\n",
      "Newborn             10\n",
      "None              5291\n",
      "Not Available     4785\n",
      "Not Mapped         320\n",
      "Trauma Center       21\n",
      "Urgent           18480\n",
      "dtype: int64\n",
      "\n",
      "\n",
      "description\n",
      "description\n",
      "Admitted as an inpatient to this hospital                                                                       21\n",
      "Discharged to home                                                                                           60234\n",
      "Discharged/transferred to ICF                                                                                  815\n",
      "Discharged/transferred to SNF                                                                                13954\n",
      "Discharged/transferred to a federal health care facility.                                                        5\n",
      "Discharged/transferred to a long term care hospital.                                                           412\n",
      "Discharged/transferred to a nursing facility certified under Medicaid but not certified under Medicare.         48\n",
      "Discharged/transferred to another rehab fac including rehab units of a hospital .                             1993\n",
      "Discharged/transferred to another short term hospital                                                         2128\n",
      "Discharged/transferred to another type of inpatient care institution                                          1184\n",
      "Discharged/transferred to home under care of Home IV provider                                                  108\n",
      "Discharged/transferred to home with home health service                                                      12902\n",
      "Discharged/transferred within this institution to Medicare approved swing bed                                   63\n",
      "Discharged/transferred/referred another institution for outpatient services                                     11\n",
      "Discharged/transferred/referred to a psychiatric hospital of psychiatric distinct part unit of a hospital      139\n",
      "Discharged/transferred/referred to this institution for outpatient services                                     14\n",
      "Expired                                                                                                       1642\n",
      "Expired at home. Medicaid only, hospice.                                                                         8\n",
      "Expired in a medical facility. Medicaid only, hospice.                                                           2\n",
      "Hospice / home                                                                                                 399\n",
      "Hospice / medical facility                                                                                     372\n",
      "Left AMA                                                                                                       623\n",
      "Neonate discharged to another hospital for neonatal aftercare                                                    6\n",
      "None                                                                                                          3691\n",
      "Not Mapped                                                                                                     989\n",
      "Still patient or expected to return for outpatient services                                                      3\n",
      "dtype: int64\n",
      "\n",
      "\n"
     ]
    }
   ],
   "source": [
    "#Corregimos las variables que no están definidas de forma correcta como NaN (nan)\n",
    "for x in columnsString:\n",
    "    print(x)\n",
    "    print(bd_full.groupby(x).size())\n",
    "    print(\"\\n\")"
   ]
  },
  {
   "cell_type": "code",
   "execution_count": 35,
   "metadata": {},
   "outputs": [],
   "source": [
    "#Reemplazamos los valores extraños\n",
    "bd_full[\"race\"] = bd_full[\"race\"].replace(\"?\",np.nan)\n",
    "bd_full[\"gender\"] = bd_full[\"gender\"].replace(\"Unknown/Invalid\",np.nan)\n",
    "bd_full[\"weight\"] = bd_full[\"weight\"].replace(\"?\",np.nan)\n",
    "bd_full[\"payer_code\"] = bd_full[\"payer_code\"].replace(\"?\",np.nan)\n",
    "bd_full[\"medical_specialty\"] = bd_full[\"medical_specialty\"].replace(\"?\",np.nan)\n",
    "bd_full[\"medical_specialty\"] = bd_full[\"medical_specialty\"].replace(\"?\",np.nan)"
   ]
  },
  {
   "cell_type": "code",
   "execution_count": 36,
   "metadata": {},
   "outputs": [
    {
     "name": "stdout",
     "output_type": "stream",
     "text": [
      "race\n",
      "0.022335554114340742\n",
      "\n",
      "\n",
      "gender\n",
      "2.947939390366134e-05\n",
      "\n",
      "\n",
      "age\n",
      "0.0\n",
      "\n",
      "\n",
      "weight\n",
      "0.9685847925633315\n",
      "\n",
      "\n",
      "payer_code\n",
      "0.395574160328597\n",
      "\n",
      "\n",
      "medical_specialty\n",
      "0.49082208203132677\n",
      "\n",
      "\n",
      "diag_1\n",
      "0.0\n",
      "\n",
      "\n",
      "diag_2\n",
      "0.0\n",
      "\n",
      "\n",
      "diag_3\n",
      "0.0\n",
      "\n",
      "\n",
      "max_glu_serum\n",
      "0.0\n",
      "\n",
      "\n",
      "a1c_result\n",
      "0.0\n",
      "\n",
      "\n",
      "metformin\n",
      "0.0\n",
      "\n",
      "\n",
      "repaglinide\n",
      "0.0\n",
      "\n",
      "\n",
      "nateglinide\n",
      "0.0\n",
      "\n",
      "\n",
      "chlorpropamide\n",
      "0.0\n",
      "\n",
      "\n",
      "glimepiride\n",
      "0.0\n",
      "\n",
      "\n",
      "acetohexamide\n",
      "0.0\n",
      "\n",
      "\n",
      "glipizide\n",
      "0.0\n",
      "\n",
      "\n",
      "glyburide\n",
      "0.0\n",
      "\n",
      "\n",
      "tolbutamide\n",
      "0.0\n",
      "\n",
      "\n",
      "pioglitazone\n",
      "0.0\n",
      "\n",
      "\n",
      "rosiglitazone\n",
      "0.0\n",
      "\n",
      "\n",
      "acarbose\n",
      "0.0\n",
      "\n",
      "\n",
      "miglitol\n",
      "0.0\n",
      "\n",
      "\n",
      "troglitazone\n",
      "0.0\n",
      "\n",
      "\n",
      "tolazamide\n",
      "0.0\n",
      "\n",
      "\n",
      "examide\n",
      "0.0\n",
      "\n",
      "\n",
      "citoglipton\n",
      "0.0\n",
      "\n",
      "\n",
      "insulin\n",
      "0.0\n",
      "\n",
      "\n",
      "glyburide_metformin\n",
      "0.0\n",
      "\n",
      "\n",
      "glipizide_metformin\n",
      "0.0\n",
      "\n",
      "\n",
      "glimepiride_pioglitazone\n",
      "0.0\n",
      "\n",
      "\n",
      "metformin_rosiglitazone\n",
      "0.0\n",
      "\n",
      "\n",
      "metformin_pioglitazone\n",
      "0.0\n",
      "\n",
      "\n",
      "change\n",
      "0.0\n",
      "\n",
      "\n",
      "diabetes_med\n",
      "0.0\n",
      "\n",
      "\n",
      "description_x\n",
      "0.0\n",
      "\n",
      "\n",
      "description_y\n",
      "0.0\n",
      "\n",
      "\n",
      "description\n",
      "0.0\n",
      "\n",
      "\n"
     ]
    }
   ],
   "source": [
    "#Viendo presencia de valores perdidos\n",
    "for x in columnsString:\n",
    "    print(x)\n",
    "    print(bd_full.loc[(pd.isna(bd_full[x]))].shape[0]/bd_full[x].shape[0])\n",
    "    print(\"\\n\")"
   ]
  },
  {
   "cell_type": "code",
   "execution_count": 37,
   "metadata": {},
   "outputs": [],
   "source": [
    "#Retiramos las variables con muchos NAs\n",
    "columnsString.remove('weight')\n",
    "columnsString.remove('payer_code')\n",
    "columnsString.remove('medical_specialty')\n",
    "\n",
    "bd_full = bd_full.drop(['weight'],axis = 1)\n",
    "bd_full = bd_full.drop(['payer_code'],axis = 1)\n",
    "bd_full = bd_full.drop(['medical_specialty'],axis = 1)"
   ]
  },
  {
   "cell_type": "code",
   "execution_count": 38,
   "metadata": {},
   "outputs": [],
   "source": [
    "#Como el porcentaje de nan es menor al 1% eliminamos los casos perdidos para un mejor ajuste\n",
    "bd_full =  bd_full.dropna()"
   ]
  },
  {
   "cell_type": "code",
   "execution_count": 39,
   "metadata": {},
   "outputs": [
    {
     "data": {
      "text/plain": [
       "(99492, 51)"
      ]
     },
     "execution_count": 39,
     "metadata": {},
     "output_type": "execute_result"
    }
   ],
   "source": [
    "bd_full.shape"
   ]
  },
  {
   "cell_type": "code",
   "execution_count": 40,
   "metadata": {},
   "outputs": [
    {
     "data": {
      "image/png": "[encoded data removed]",
      "text/plain": [
       "<Figure size 432x288 with 1 Axes>"
      ]
     },
     "metadata": {
      "needs_background": "light"
     },
     "output_type": "display_data"
    },
    {
     "data": {
      "image/png": "[encoded data removed]",
      "text/plain": [
       "<Figure size 432x288 with 1 Axes>"
      ]
     },
     "metadata": {
      "needs_background": "light"
     },
     "output_type": "display_data"
    },
    {
     "data": {
      "image/png": "[encoded data removed]",
      "text/plain": [
       "<Figure size 432x288 with 1 Axes>"
      ]
     },
     "metadata": {
      "needs_background": "light"
     },
     "output_type": "display_data"
    },
    {
     "data": {
      "image/png": "[encoded data removed]",
      "text/plain": [
       "<Figure size 432x288 with 1 Axes>"
      ]
     },
     "metadata": {
      "needs_background": "light"
     },
     "output_type": "display_data"
    },
    {
     "data": {
      "image/png": "[encoded data removed]",
      "text/plain": [
       "<Figure size 432x288 with 1 Axes>"
      ]
     },
     "metadata": {
      "needs_background": "light"
     },
     "output_type": "display_data"
    },
    {
     "data": {
      "image/png": "[encoded data removed]",
      "text/plain": [
       "<Figure size 432x288 with 1 Axes>"
      ]
     },
     "metadata": {
      "needs_background": "light"
     },
     "output_type": "display_data"
    },
    {
     "data": {
      "image/png": "[encoded data removed]",
      "text/plain": [
       "<Figure size 432x288 with 1 Axes>"
      ]
     },
     "metadata": {
      "needs_background": "light"
     },
     "output_type": "display_data"
    },
    {
     "data": {
      "image/png": "[encoded data removed]",
      "text/plain": [
       "<Figure size 432x288 with 1 Axes>"
      ]
     },
     "metadata": {
      "needs_background": "light"
     },
     "output_type": "display_data"
    },
    {
     "data": {
      "image/png": "[encoded data removed]",
      "text/plain": [
       "<Figure size 432x288 with 1 Axes>"
      ]
     },
     "metadata": {
      "needs_background": "light"
     },
     "output_type": "display_data"
    },
    {
     "data": {
      "image/png": "[encoded data removed]",
      "text/plain": [
       "<Figure size 432x288 with 1 Axes>"
      ]
     },
     "metadata": {
      "needs_background": "light"
     },
     "output_type": "display_data"
    },
    {
     "data": {
      "image/png": "[encoded data removed]",
      "text/plain": [
       "<Figure size 432x288 with 1 Axes>"
      ]
     },
     "metadata": {
      "needs_background": "light"
     },
     "output_type": "display_data"
    },
    {
     "data": {
      "image/png": "[encoded data removed]",
      "text/plain": [
       "<Figure size 432x288 with 1 Axes>"
      ]
     },
     "metadata": {
      "needs_background": "light"
     },
     "output_type": "display_data"
    },
    {
     "data": {
      "image/png": "[encoded data removed]",
      "text/plain": [
       "<Figure size 432x288 with 1 Axes>"
      ]
     },
     "metadata": {
      "needs_background": "light"
     },
     "output_type": "display_data"
    },
    {
     "data": {
      "image/png": "[encoded data removed]",
      "text/plain": [
       "<Figure size 432x288 with 1 Axes>"
      ]
     },
     "metadata": {
      "needs_background": "light"
     },
     "output_type": "display_data"
    },
    {
     "data": {
      "image/png": "[encoded data removed]",
      "text/plain": [
       "<Figure size 432x288 with 1 Axes>"
      ]
     },
     "metadata": {
      "needs_background": "light"
     },
     "output_type": "display_data"
    },
    {
     "data": {
      "image/png": "[encoded data removed]",
      "text/plain": [
       "<Figure size 432x288 with 1 Axes>"
      ]
     },
     "metadata": {
      "needs_background": "light"
     },
     "output_type": "display_data"
    },
    {
     "data": {
      "image/png": "[encoded data removed]",
      "text/plain": [
       "<Figure size 432x288 with 1 Axes>"
      ]
     },
     "metadata": {
      "needs_background": "light"
     },
     "output_type": "display_data"
    },
    {
     "data": {
      "image/png": "[encoded data removed]",
      "text/plain": [
       "<Figure size 432x288 with 1 Axes>"
      ]
     },
     "metadata": {
      "needs_background": "light"
     },
     "output_type": "display_data"
    },
    {
     "data": {
      "image/png": "[encoded data removed]",
      "text/plain": [
       "<Figure size 432x288 with 1 Axes>"
      ]
     },
     "metadata": {
      "needs_background": "light"
     },
     "output_type": "display_data"
    },
    {
     "data": {
      "image/png": "[encoded data removed]",
      "text/plain": [
       "<Figure size 432x288 with 1 Axes>"
      ]
     },
     "metadata": {
      "needs_background": "light"
     },
     "output_type": "display_data"
    },
    {
     "data": {
      "image/png": "[encoded data removed]",
      "text/plain": [
       "<Figure size 432x288 with 1 Axes>"
      ]
     },
     "metadata": {
      "needs_background": "light"
     },
     "output_type": "display_data"
    },
    {
     "data": {
      "image/png": "[encoded data removed]",
      "text/plain": [
       "<Figure size 432x288 with 1 Axes>"
      ]
     },
     "metadata": {
      "needs_background": "light"
     },
     "output_type": "display_data"
    },
    {
     "data": {
      "image/png": "[encoded data removed]",
      "text/plain": [
       "<Figure size 432x288 with 1 Axes>"
      ]
     },
     "metadata": {
      "needs_background": "light"
     },
     "output_type": "display_data"
    },
    {
     "data": {
      "image/png": "[encoded data removed]",
      "text/plain": [
       "<Figure size 432x288 with 1 Axes>"
      ]
     },
     "metadata": {
      "needs_background": "light"
     },
     "output_type": "display_data"
    },
    {
     "data": {
      "image/png": "[encoded data removed]",
      "text/plain": [
       "<Figure size 432x288 with 1 Axes>"
      ]
     },
     "metadata": {
      "needs_background": "light"
     },
     "output_type": "display_data"
    },
    {
     "data": {
      "image/png": "[encoded data removed]",
      "text/plain": [
       "<Figure size 432x288 with 1 Axes>"
      ]
     },
     "metadata": {
      "needs_background": "light"
     },
     "output_type": "display_data"
    },
    {
     "data": {
      "image/png": "[encoded data removed]",
      "text/plain": [
       "<Figure size 432x288 with 1 Axes>"
      ]
     },
     "metadata": {
      "needs_background": "light"
     },
     "output_type": "display_data"
    },
    {
     "data": {
      "image/png": "[encoded data removed]",
      "text/plain": [
       "<Figure size 432x288 with 1 Axes>"
      ]
     },
     "metadata": {
      "needs_background": "light"
     },
     "output_type": "display_data"
    },
    {
     "data": {
      "image/png": "[encoded data removed]",
      "text/plain": [
       "<Figure size 432x288 with 1 Axes>"
      ]
     },
     "metadata": {
      "needs_background": "light"
     },
     "output_type": "display_data"
    },
    {
     "data": {
      "image/png": "[encoded data removed]",
      "text/plain": [
       "<Figure size 432x288 with 1 Axes>"
      ]
     },
     "metadata": {
      "needs_background": "light"
     },
     "output_type": "display_data"
    },
    {
     "data": {
      "image/png": "[encoded data removed]",
      "text/plain": [
       "<Figure size 432x288 with 1 Axes>"
      ]
     },
     "metadata": {
      "needs_background": "light"
     },
     "output_type": "display_data"
    },
    {
     "data": {
      "image/png": "[encoded data removed]",
      "text/plain": [
       "<Figure size 432x288 with 1 Axes>"
      ]
     },
     "metadata": {
      "needs_background": "light"
     },
     "output_type": "display_data"
    },
    {
     "data": {
      "image/png": "[encoded data removed]",
      "text/plain": [
       "<Figure size 432x288 with 1 Axes>"
      ]
     },
     "metadata": {
      "needs_background": "light"
     },
     "output_type": "display_data"
    },
    {
     "data": {
      "image/png": "[encoded data removed]",
      "text/plain": [
       "<Figure size 432x288 with 1 Axes>"
      ]
     },
     "metadata": {
      "needs_background": "light"
     },
     "output_type": "display_data"
    },
    {
     "data": {
      "image/png": "[encoded data removed]",
      "text/plain": [
       "<Figure size 432x288 with 1 Axes>"
      ]
     },
     "metadata": {
      "needs_background": "light"
     },
     "output_type": "display_data"
    },
    {
     "data": {
      "image/png": "[encoded data removed]",
      "text/plain": [
       "<Figure size 432x288 with 1 Axes>"
      ]
     },
     "metadata": {
      "needs_background": "light"
     },
     "output_type": "display_data"
    }
   ],
   "source": [
    "#Columnas categoricas\n",
    "for x in columnsString:\n",
    "  plt.title(x)\n",
    "  bd_full.fillna(\"--NULL\").groupby(x)[x].count().plot(kind = \"bar\")\n",
    "  plt.show()"
   ]
  },
  {
   "cell_type": "code",
   "execution_count": 41,
   "metadata": {},
   "outputs": [],
   "source": [
    "#Retiramos las variables diag_1 diag_2 diag_3\n",
    "columnsNumeric.append(\"diag_1\")\n",
    "columnsNumeric.append(\"diag_2\")\n",
    "columnsNumeric.append(\"diag_3\")\n",
    "\n",
    "columnsString.remove(\"diag_1\")\n",
    "columnsString.remove(\"diag_2\")\n",
    "columnsString.remove(\"diag_3\")"
   ]
  },
  {
   "cell_type": "markdown",
   "metadata": {},
   "source": [
    "*Se observa que las variables diag_1, diag_2 y diag_3 son en su mayoria numéricas, revisamos el porcentaje de numéricas, no numericas y nulos.*"
   ]
  },
  {
   "cell_type": "code",
   "execution_count": 42,
   "metadata": {},
   "outputs": [],
   "source": [
    "def changeType(x):\n",
    "  try:\n",
    "    a = float(x)\n",
    "    if(np.isnan(a)):\n",
    "      return -1\n",
    "    else:\n",
    "      return 1\n",
    "  except:\n",
    "    return 0\n",
    "  \n",
    "def diagToNumber(x):\n",
    "  try:\n",
    "    a = float(x)\n",
    "    if(np.isnan(a)):\n",
    "      return float(\"nan\")\n",
    "    else:\n",
    "      return a\n",
    "  except:\n",
    "    return float(\"nan\")"
   ]
  },
  {
   "cell_type": "code",
   "execution_count": 43,
   "metadata": {},
   "outputs": [
    {
     "name": "stdout",
     "output_type": "stream",
     "text": [
      "diag_1\n",
      "Numeros: 98.36%\n",
      "String: 1.64%\n",
      "Nulos: 0.0%\n",
      "\n",
      "\n",
      "diag_2\n",
      "Numeros: 97.14%\n",
      "String: 2.86%\n",
      "Nulos: 0.0%\n",
      "\n",
      "\n",
      "diag_3\n",
      "Numeros: 93.64%\n",
      "String: 6.36%\n",
      "Nulos: 0.0%\n",
      "\n",
      "\n"
     ]
    }
   ],
   "source": [
    "for x in [\"diag_1\", \"diag_2\", \"diag_3\"]:\n",
    "  numNumeric = bd_full[bd_full[x].apply(changeType) == 1].shape[0]\n",
    "  numString = bd_full[bd_full[x].apply(changeType) == 0].shape[0]\n",
    "  numNull = bd_full[bd_full[x].apply(changeType) == -1].shape[0]\n",
    "  print(x)\n",
    "  print(\"Numeros: \" + str(np.round(numNumeric / bd_full.shape[0] * 100, 2)) + \"%\")\n",
    "  print(\"String: \" + str(np.round(numString / bd_full.shape[0] * 100, 2)) + \"%\")\n",
    "  print(\"Nulos: \" + str(np.round(numNull / bd_full.shape[0] * 100, 2)) + \"%\")\n",
    "  print(\"\\n\")"
   ]
  },
  {
   "cell_type": "markdown",
   "metadata": {},
   "source": [
    "*Todos los numéricos son mayores a 90%, tomamos estos para transformar a numéricas estas variables*"
   ]
  },
  {
   "cell_type": "code",
   "execution_count": 44,
   "metadata": {},
   "outputs": [],
   "source": [
    "for x in [\"diag_1\", \"diag_2\", \"diag_3\"]:\n",
    "  bd_full[x] = bd_full[x].apply(diagToNumber)\n",
    "  bd_full[x] = bd_full[x].apply(float)"
   ]
  },
  {
   "cell_type": "markdown",
   "metadata": {},
   "source": [
    "*Transformamos las variables categoricas para que puedan ser leidas*"
   ]
  },
  {
   "cell_type": "code",
   "execution_count": 45,
   "metadata": {},
   "outputs": [],
   "source": [
    "#Como el porcentaje de nan es menor al 1% eliminamos los casos perdidos para un mejor ajuste\n",
    "bd_full =  bd_full.dropna()"
   ]
  },
  {
   "cell_type": "code",
   "execution_count": 46,
   "metadata": {},
   "outputs": [
    {
     "data": {
      "text/plain": [
       "(89781, 51)"
      ]
     },
     "execution_count": 46,
     "metadata": {},
     "output_type": "execute_result"
    }
   ],
   "source": [
    "bd_full.shape"
   ]
  },
  {
   "cell_type": "code",
   "execution_count": 47,
   "metadata": {},
   "outputs": [],
   "source": [
    "#===================================================================\n",
    "from sklearn import preprocessing\n",
    "from sklearn.preprocessing import LabelEncoder"
   ]
  },
  {
   "cell_type": "code",
   "execution_count": 48,
   "metadata": {},
   "outputs": [
    {
     "data": {
      "text/html": [
       "<div>\n",
       "<style scoped>\n",
       "    .dataframe tbody tr th:only-of-type {\n",
       "        vertical-align: middle;\n",
       "    }\n",
       "\n",
       "    .dataframe tbody tr th {\n",
       "        vertical-align: top;\n",
       "    }\n",
       "\n",
       "    .dataframe thead th {\n",
       "        text-align: right;\n",
       "    }\n",
       "</style>\n",
       "<table border=\"1\" class=\"dataframe\">\n",
       "  <thead>\n",
       "    <tr style=\"text-align: right;\">\n",
       "      <th></th>\n",
       "      <th>encounter_id</th>\n",
       "      <th>patient_nbr</th>\n",
       "      <th>race</th>\n",
       "      <th>gender</th>\n",
       "      <th>age</th>\n",
       "      <th>admission_type_id</th>\n",
       "      <th>discharge_disposition_id</th>\n",
       "      <th>admission_source_id</th>\n",
       "      <th>time_in_hospital</th>\n",
       "      <th>num_lab_procedures</th>\n",
       "      <th>...</th>\n",
       "      <th>glimepiride_pioglitazone</th>\n",
       "      <th>metformin_rosiglitazone</th>\n",
       "      <th>metformin_pioglitazone</th>\n",
       "      <th>change</th>\n",
       "      <th>diabetes_med</th>\n",
       "      <th>readmitted</th>\n",
       "      <th>description_x</th>\n",
       "      <th>description_y</th>\n",
       "      <th>description</th>\n",
       "      <th>target</th>\n",
       "    </tr>\n",
       "  </thead>\n",
       "  <tbody>\n",
       "    <tr>\n",
       "      <th>1</th>\n",
       "      <td>149190</td>\n",
       "      <td>55629189</td>\n",
       "      <td>Caucasian</td>\n",
       "      <td>Female</td>\n",
       "      <td>[10-20)</td>\n",
       "      <td>1</td>\n",
       "      <td>1</td>\n",
       "      <td>7</td>\n",
       "      <td>3</td>\n",
       "      <td>59</td>\n",
       "      <td>...</td>\n",
       "      <td>No</td>\n",
       "      <td>No</td>\n",
       "      <td>No</td>\n",
       "      <td>Ch</td>\n",
       "      <td>Yes</td>\n",
       "      <td>&gt;30</td>\n",
       "      <td>Emergency Room</td>\n",
       "      <td>Emergency</td>\n",
       "      <td>Discharged to home</td>\n",
       "      <td>1</td>\n",
       "    </tr>\n",
       "    <tr>\n",
       "      <th>3</th>\n",
       "      <td>500364</td>\n",
       "      <td>82442376</td>\n",
       "      <td>Caucasian</td>\n",
       "      <td>Male</td>\n",
       "      <td>[30-40)</td>\n",
       "      <td>1</td>\n",
       "      <td>1</td>\n",
       "      <td>7</td>\n",
       "      <td>2</td>\n",
       "      <td>44</td>\n",
       "      <td>...</td>\n",
       "      <td>No</td>\n",
       "      <td>No</td>\n",
       "      <td>No</td>\n",
       "      <td>Ch</td>\n",
       "      <td>Yes</td>\n",
       "      <td>NO</td>\n",
       "      <td>Emergency Room</td>\n",
       "      <td>Emergency</td>\n",
       "      <td>Discharged to home</td>\n",
       "      <td>0</td>\n",
       "    </tr>\n",
       "    <tr>\n",
       "      <th>4</th>\n",
       "      <td>16680</td>\n",
       "      <td>42519267</td>\n",
       "      <td>Caucasian</td>\n",
       "      <td>Male</td>\n",
       "      <td>[40-50)</td>\n",
       "      <td>1</td>\n",
       "      <td>1</td>\n",
       "      <td>7</td>\n",
       "      <td>1</td>\n",
       "      <td>51</td>\n",
       "      <td>...</td>\n",
       "      <td>No</td>\n",
       "      <td>No</td>\n",
       "      <td>No</td>\n",
       "      <td>Ch</td>\n",
       "      <td>Yes</td>\n",
       "      <td>NO</td>\n",
       "      <td>Emergency Room</td>\n",
       "      <td>Emergency</td>\n",
       "      <td>Discharged to home</td>\n",
       "      <td>0</td>\n",
       "    </tr>\n",
       "    <tr>\n",
       "      <th>5</th>\n",
       "      <td>35754</td>\n",
       "      <td>82637451</td>\n",
       "      <td>Caucasian</td>\n",
       "      <td>Male</td>\n",
       "      <td>[50-60)</td>\n",
       "      <td>2</td>\n",
       "      <td>1</td>\n",
       "      <td>2</td>\n",
       "      <td>3</td>\n",
       "      <td>31</td>\n",
       "      <td>...</td>\n",
       "      <td>No</td>\n",
       "      <td>No</td>\n",
       "      <td>No</td>\n",
       "      <td>No</td>\n",
       "      <td>Yes</td>\n",
       "      <td>&gt;30</td>\n",
       "      <td>Clinic Referral</td>\n",
       "      <td>Urgent</td>\n",
       "      <td>Discharged to home</td>\n",
       "      <td>1</td>\n",
       "    </tr>\n",
       "    <tr>\n",
       "      <th>7</th>\n",
       "      <td>63768</td>\n",
       "      <td>114882984</td>\n",
       "      <td>Caucasian</td>\n",
       "      <td>Male</td>\n",
       "      <td>[70-80)</td>\n",
       "      <td>1</td>\n",
       "      <td>1</td>\n",
       "      <td>7</td>\n",
       "      <td>5</td>\n",
       "      <td>73</td>\n",
       "      <td>...</td>\n",
       "      <td>No</td>\n",
       "      <td>No</td>\n",
       "      <td>No</td>\n",
       "      <td>No</td>\n",
       "      <td>Yes</td>\n",
       "      <td>&gt;30</td>\n",
       "      <td>Emergency Room</td>\n",
       "      <td>Emergency</td>\n",
       "      <td>Discharged to home</td>\n",
       "      <td>1</td>\n",
       "    </tr>\n",
       "  </tbody>\n",
       "</table>\n",
       "<p>5 rows × 51 columns</p>\n",
       "</div>"
      ],
      "text/plain": [
       "   encounter_id  patient_nbr       race  gender      age  admission_type_id  \\\n",
       "1        149190     55629189  Caucasian  Female  [10-20)                  1   \n",
       "3        500364     82442376  Caucasian    Male  [30-40)                  1   \n",
       "4         16680     42519267  Caucasian    Male  [40-50)                  1   \n",
       "5         35754     82637451  Caucasian    Male  [50-60)                  2   \n",
       "7         63768    114882984  Caucasian    Male  [70-80)                  1   \n",
       "\n",
       "   discharge_disposition_id  admission_source_id  time_in_hospital  \\\n",
       "1                         1                    7                 3   \n",
       "3                         1                    7                 2   \n",
       "4                         1                    7                 1   \n",
       "5                         1                    2                 3   \n",
       "7                         1                    7                 5   \n",
       "\n",
       "   num_lab_procedures  ...  glimepiride_pioglitazone  metformin_rosiglitazone  \\\n",
       "1                  59  ...                        No                       No   \n",
       "3                  44  ...                        No                       No   \n",
       "4                  51  ...                        No                       No   \n",
       "5                  31  ...                        No                       No   \n",
       "7                  73  ...                        No                       No   \n",
       "\n",
       "   metformin_pioglitazone  change  diabetes_med  readmitted    description_x  \\\n",
       "1                      No      Ch           Yes         >30   Emergency Room   \n",
       "3                      No      Ch           Yes          NO   Emergency Room   \n",
       "4                      No      Ch           Yes          NO   Emergency Room   \n",
       "5                      No      No           Yes         >30  Clinic Referral   \n",
       "7                      No      No           Yes         >30   Emergency Room   \n",
       "\n",
       "   description_y         description target  \n",
       "1      Emergency  Discharged to home      1  \n",
       "3      Emergency  Discharged to home      0  \n",
       "4      Emergency  Discharged to home      0  \n",
       "5         Urgent  Discharged to home      1  \n",
       "7      Emergency  Discharged to home      1  \n",
       "\n",
       "[5 rows x 51 columns]"
      ]
     },
     "execution_count": 48,
     "metadata": {},
     "output_type": "execute_result"
    }
   ],
   "source": [
    "bd_full.head()"
   ]
  },
  {
   "cell_type": "code",
   "execution_count": 49,
   "metadata": {},
   "outputs": [],
   "source": [
    "le = preprocessing.LabelEncoder()"
   ]
  },
  {
   "cell_type": "code",
   "execution_count": 50,
   "metadata": {},
   "outputs": [],
   "source": [
    "for x in columnsString:\n",
    "    le.fit(bd_full[x])\n",
    "    le.transform(bd_full[x]) \n",
    "    bd_full[x + '_D'] = le.transform(bd_full[x])"
   ]
  },
  {
   "cell_type": "code",
   "execution_count": 51,
   "metadata": {
    "scrolled": true
   },
   "outputs": [],
   "source": [
    "columnsString_D = ['race_D', 'gender_D', 'age_D', 'max_glu_serum_D', 'a1c_result_D', 'metformin_D', 'repaglinide_D', 'nateglinide_D',\n",
    " 'chlorpropamide_D', 'glimepiride_D', 'acetohexamide_D', 'glipizide_D', 'glyburide_D', 'tolbutamide_D', 'pioglitazone_D', 'rosiglitazone_D',\n",
    " 'acarbose_D', 'miglitol_D', 'troglitazone_D', 'tolazamide_D', 'examide_D', 'citoglipton_D', 'insulin_D', 'glyburide_metformin_D',\n",
    " 'glipizide_metformin_D', 'glimepiride_pioglitazone_D', 'metformin_rosiglitazone_D', 'metformin_pioglitazone_D', 'change_D',\n",
    " 'diabetes_med_D', 'description_x_D', 'description_y_D', 'description_D']"
   ]
  },
  {
   "cell_type": "code",
   "execution_count": 52,
   "metadata": {},
   "outputs": [
    {
     "data": {
      "text/html": [
       "<div>\n",
       "<style scoped>\n",
       "    .dataframe tbody tr th:only-of-type {\n",
       "        vertical-align: middle;\n",
       "    }\n",
       "\n",
       "    .dataframe tbody tr th {\n",
       "        vertical-align: top;\n",
       "    }\n",
       "\n",
       "    .dataframe thead th {\n",
       "        text-align: right;\n",
       "    }\n",
       "</style>\n",
       "<table border=\"1\" class=\"dataframe\">\n",
       "  <thead>\n",
       "    <tr style=\"text-align: right;\">\n",
       "      <th></th>\n",
       "      <th>encounter_id</th>\n",
       "      <th>patient_nbr</th>\n",
       "      <th>race</th>\n",
       "      <th>gender</th>\n",
       "      <th>age</th>\n",
       "      <th>admission_type_id</th>\n",
       "      <th>discharge_disposition_id</th>\n",
       "      <th>admission_source_id</th>\n",
       "      <th>time_in_hospital</th>\n",
       "      <th>num_lab_procedures</th>\n",
       "      <th>...</th>\n",
       "      <th>glyburide_metformin_D</th>\n",
       "      <th>glipizide_metformin_D</th>\n",
       "      <th>glimepiride_pioglitazone_D</th>\n",
       "      <th>metformin_rosiglitazone_D</th>\n",
       "      <th>metformin_pioglitazone_D</th>\n",
       "      <th>change_D</th>\n",
       "      <th>diabetes_med_D</th>\n",
       "      <th>description_x_D</th>\n",
       "      <th>description_y_D</th>\n",
       "      <th>description_D</th>\n",
       "    </tr>\n",
       "  </thead>\n",
       "  <tbody>\n",
       "    <tr>\n",
       "      <th>1</th>\n",
       "      <td>149190</td>\n",
       "      <td>55629189</td>\n",
       "      <td>Caucasian</td>\n",
       "      <td>Female</td>\n",
       "      <td>[10-20)</td>\n",
       "      <td>1</td>\n",
       "      <td>1</td>\n",
       "      <td>7</td>\n",
       "      <td>3</td>\n",
       "      <td>59</td>\n",
       "      <td>...</td>\n",
       "      <td>1</td>\n",
       "      <td>0</td>\n",
       "      <td>0</td>\n",
       "      <td>0</td>\n",
       "      <td>0</td>\n",
       "      <td>0</td>\n",
       "      <td>1</td>\n",
       "      <td>1</td>\n",
       "      <td>1</td>\n",
       "      <td>1</td>\n",
       "    </tr>\n",
       "    <tr>\n",
       "      <th>3</th>\n",
       "      <td>500364</td>\n",
       "      <td>82442376</td>\n",
       "      <td>Caucasian</td>\n",
       "      <td>Male</td>\n",
       "      <td>[30-40)</td>\n",
       "      <td>1</td>\n",
       "      <td>1</td>\n",
       "      <td>7</td>\n",
       "      <td>2</td>\n",
       "      <td>44</td>\n",
       "      <td>...</td>\n",
       "      <td>1</td>\n",
       "      <td>0</td>\n",
       "      <td>0</td>\n",
       "      <td>0</td>\n",
       "      <td>0</td>\n",
       "      <td>0</td>\n",
       "      <td>1</td>\n",
       "      <td>1</td>\n",
       "      <td>1</td>\n",
       "      <td>1</td>\n",
       "    </tr>\n",
       "    <tr>\n",
       "      <th>4</th>\n",
       "      <td>16680</td>\n",
       "      <td>42519267</td>\n",
       "      <td>Caucasian</td>\n",
       "      <td>Male</td>\n",
       "      <td>[40-50)</td>\n",
       "      <td>1</td>\n",
       "      <td>1</td>\n",
       "      <td>7</td>\n",
       "      <td>1</td>\n",
       "      <td>51</td>\n",
       "      <td>...</td>\n",
       "      <td>1</td>\n",
       "      <td>0</td>\n",
       "      <td>0</td>\n",
       "      <td>0</td>\n",
       "      <td>0</td>\n",
       "      <td>0</td>\n",
       "      <td>1</td>\n",
       "      <td>1</td>\n",
       "      <td>1</td>\n",
       "      <td>1</td>\n",
       "    </tr>\n",
       "    <tr>\n",
       "      <th>5</th>\n",
       "      <td>35754</td>\n",
       "      <td>82637451</td>\n",
       "      <td>Caucasian</td>\n",
       "      <td>Male</td>\n",
       "      <td>[50-60)</td>\n",
       "      <td>2</td>\n",
       "      <td>1</td>\n",
       "      <td>2</td>\n",
       "      <td>3</td>\n",
       "      <td>31</td>\n",
       "      <td>...</td>\n",
       "      <td>1</td>\n",
       "      <td>0</td>\n",
       "      <td>0</td>\n",
       "      <td>0</td>\n",
       "      <td>0</td>\n",
       "      <td>1</td>\n",
       "      <td>1</td>\n",
       "      <td>11</td>\n",
       "      <td>7</td>\n",
       "      <td>1</td>\n",
       "    </tr>\n",
       "    <tr>\n",
       "      <th>7</th>\n",
       "      <td>63768</td>\n",
       "      <td>114882984</td>\n",
       "      <td>Caucasian</td>\n",
       "      <td>Male</td>\n",
       "      <td>[70-80)</td>\n",
       "      <td>1</td>\n",
       "      <td>1</td>\n",
       "      <td>7</td>\n",
       "      <td>5</td>\n",
       "      <td>73</td>\n",
       "      <td>...</td>\n",
       "      <td>1</td>\n",
       "      <td>0</td>\n",
       "      <td>0</td>\n",
       "      <td>0</td>\n",
       "      <td>0</td>\n",
       "      <td>1</td>\n",
       "      <td>1</td>\n",
       "      <td>1</td>\n",
       "      <td>1</td>\n",
       "      <td>1</td>\n",
       "    </tr>\n",
       "  </tbody>\n",
       "</table>\n",
       "<p>5 rows × 84 columns</p>\n",
       "</div>"
      ],
      "text/plain": [
       "   encounter_id  patient_nbr       race  gender      age  admission_type_id  \\\n",
       "1        149190     55629189  Caucasian  Female  [10-20)                  1   \n",
       "3        500364     82442376  Caucasian    Male  [30-40)                  1   \n",
       "4         16680     42519267  Caucasian    Male  [40-50)                  1   \n",
       "5         35754     82637451  Caucasian    Male  [50-60)                  2   \n",
       "7         63768    114882984  Caucasian    Male  [70-80)                  1   \n",
       "\n",
       "   discharge_disposition_id  admission_source_id  time_in_hospital  \\\n",
       "1                         1                    7                 3   \n",
       "3                         1                    7                 2   \n",
       "4                         1                    7                 1   \n",
       "5                         1                    2                 3   \n",
       "7                         1                    7                 5   \n",
       "\n",
       "   num_lab_procedures  ...  glyburide_metformin_D  glipizide_metformin_D  \\\n",
       "1                  59  ...                      1                      0   \n",
       "3                  44  ...                      1                      0   \n",
       "4                  51  ...                      1                      0   \n",
       "5                  31  ...                      1                      0   \n",
       "7                  73  ...                      1                      0   \n",
       "\n",
       "   glimepiride_pioglitazone_D  metformin_rosiglitazone_D  \\\n",
       "1                           0                          0   \n",
       "3                           0                          0   \n",
       "4                           0                          0   \n",
       "5                           0                          0   \n",
       "7                           0                          0   \n",
       "\n",
       "   metformin_pioglitazone_D  change_D  diabetes_med_D  description_x_D  \\\n",
       "1                         0         0               1                1   \n",
       "3                         0         0               1                1   \n",
       "4                         0         0               1                1   \n",
       "5                         0         1               1               11   \n",
       "7                         0         1               1                1   \n",
       "\n",
       "   description_y_D description_D  \n",
       "1                1             1  \n",
       "3                1             1  \n",
       "4                1             1  \n",
       "5                7             1  \n",
       "7                1             1  \n",
       "\n",
       "[5 rows x 84 columns]"
      ]
     },
     "execution_count": 52,
     "metadata": {},
     "output_type": "execute_result"
    }
   ],
   "source": [
    "bd_full.head()"
   ]
  },
  {
   "cell_type": "markdown",
   "metadata": {},
   "source": [
    "**5. Generamos nuestra base modeler**"
   ]
  },
  {
   "cell_type": "code",
   "execution_count": 53,
   "metadata": {},
   "outputs": [],
   "source": [
    "columnsEvaluar = columnsNumeric + columnsString_D\n",
    "columnsFin = columnsNumeric + columnsString_D + [\"target\"]\n",
    "bd_modeler = bd_full[columnsFin]"
   ]
  },
  {
   "cell_type": "markdown",
   "metadata": {},
   "source": [
    "**6. Particionado de datos: train y Test**"
   ]
  },
  {
   "cell_type": "code",
   "execution_count": 54,
   "metadata": {},
   "outputs": [],
   "source": [
    "from sklearn.model_selection import train_test_split"
   ]
  },
  {
   "cell_type": "code",
   "execution_count": 55,
   "metadata": {},
   "outputs": [],
   "source": [
    "X = bd_modeler[columnsEvaluar]\n",
    "y = bd_modeler[[\"target\"]]\n",
    "\n",
    "X_train, X_test, y_train, y_test = train_test_split(X, y, test_size = 0.2, random_state = 43)"
   ]
  },
  {
   "cell_type": "code",
   "execution_count": 56,
   "metadata": {},
   "outputs": [],
   "source": [
    "pdX_train = pd.DataFrame(X_train, columns = columnsEvaluar)\n",
    "pdy_train = pd.DataFrame(y_train, columns = [\"target\"])\n",
    "pdX_test = pd.DataFrame(X_test, columns = columnsEvaluar)\n",
    "pdy_test = pd.DataFrame(y_test, columns = [\"target\"])"
   ]
  },
  {
   "cell_type": "markdown",
   "metadata": {},
   "source": [
    "Regresión logistica"
   ]
  },
  {
   "cell_type": "code",
   "execution_count": 57,
   "metadata": {},
   "outputs": [],
   "source": [
    "from sklearn.linear_model import LogisticRegression\n",
    "from sklearn.metrics import confusion_matrix, accuracy_score"
   ]
  },
  {
   "cell_type": "code",
   "execution_count": 58,
   "metadata": {},
   "outputs": [
    {
     "name": "stderr",
     "output_type": "stream",
     "text": [
      "C:\\Users\\Administrativo\\AppData\\Roaming\\Python\\Python37\\site-packages\\sklearn\\utils\\validation.py:73: DataConversionWarning: A column-vector y was passed when a 1d array was expected. Please change the shape of y to (n_samples, ), for example using ravel().\n",
      "  return f(**kwargs)\n",
      "C:\\Users\\Administrativo\\AppData\\Roaming\\Python\\Python37\\site-packages\\sklearn\\linear_model\\_logistic.py:764: ConvergenceWarning: lbfgs failed to converge (status=1):\n",
      "STOP: TOTAL NO. of ITERATIONS REACHED LIMIT.\n",
      "\n",
      "Increase the number of iterations (max_iter) or scale the data as shown in:\n",
      "    https://scikit-learn.org/stable/modules/preprocessing.html\n",
      "Please also refer to the documentation for alternative solver options:\n",
      "    https://scikit-learn.org/stable/modules/linear_model.html#logistic-regression\n",
      "  extra_warning_msg=_LOGISTIC_SOLVER_CONVERGENCE_MSG)\n"
     ]
    },
    {
     "data": {
      "text/plain": [
       "LogisticRegression()"
      ]
     },
     "execution_count": 58,
     "metadata": {},
     "output_type": "execute_result"
    }
   ],
   "source": [
    "clasificador = LogisticRegression()\n",
    "clasificador.fit(pdX_train[columnsEvaluar], y_train) "
   ]
  },
  {
   "cell_type": "code",
   "execution_count": 59,
   "metadata": {},
   "outputs": [],
   "source": [
    "# Predecir con el algoritmo entrenado\n",
    "Y_pred_train = clasificador.predict(X_train)\n",
    "Y_pred_test = clasificador.predict(X_test)"
   ]
  },
  {
   "cell_type": "code",
   "execution_count": 60,
   "metadata": {},
   "outputs": [
    {
     "name": "stdout",
     "output_type": "stream",
     "text": [
      "Train: \n",
      " [[28789  9567]\n",
      " [18547 14921]] \n",
      "\n",
      "Test: \n",
      " [[7216 2331]\n",
      " [4791 3619]]\n"
     ]
    }
   ],
   "source": [
    "#Matriz de confusión\n",
    "print('Train:','\\n',confusion_matrix(y_train, Y_pred_train),'\\n')\n",
    "print('Test:','\\n',confusion_matrix(y_test, Y_pred_test))"
   ]
  },
  {
   "cell_type": "code",
   "execution_count": 61,
   "metadata": {},
   "outputs": [
    {
     "data": {
      "image/png": "[encoded data removed]",
      "text/plain": [
       "<Figure size 432x288 with 2 Axes>"
      ]
     },
     "metadata": {
      "needs_background": "light"
     },
     "output_type": "display_data"
    }
   ],
   "source": [
    "# Visualizando la matriz de confusión\n",
    "conf_mat = confusion_matrix(y_test, Y_pred_test)\n",
    "labels = ['Class 0', 'Class 1']\n",
    "\n",
    "fig = plt.figure()\n",
    "ax = fig.add_subplot(111)\n",
    "cax = ax.matshow(conf_mat, cmap=plt.cm.Blues)\n",
    "fig.colorbar(cax)\n",
    "ax.set_xticklabels([''] + labels)\n",
    "ax.set_yticklabels([''] + labels)\n",
    "plt.xlabel('Predicted')\n",
    "plt.ylabel('Expected')\n",
    "plt.show()"
   ]
  },
  {
   "cell_type": "code",
   "execution_count": 62,
   "metadata": {},
   "outputs": [],
   "source": [
    "prediction_train = clasificador.score(pdX_train[columnsEvaluar], y_train)\n",
    "prediction_test = clasificador.score(pdX_test[columnsEvaluar], y_test)"
   ]
  },
  {
   "cell_type": "code",
   "execution_count": 63,
   "metadata": {},
   "outputs": [
    {
     "name": "stdout",
     "output_type": "stream",
     "text": [
      "0.6085709512140789\n",
      "0.6033858662360082\n"
     ]
    }
   ],
   "source": [
    "print(prediction_train)\n",
    "print(prediction_test)"
   ]
  },
  {
   "cell_type": "markdown",
   "metadata": {},
   "source": [
    "Arboles de Decisiones"
   ]
  },
  {
   "cell_type": "code",
   "execution_count": 64,
   "metadata": {},
   "outputs": [],
   "source": [
    "from sklearn.tree import DecisionTreeClassifier"
   ]
  },
  {
   "cell_type": "code",
   "execution_count": 65,
   "metadata": {},
   "outputs": [
    {
     "data": {
      "text/plain": [
       "DecisionTreeClassifier(max_depth=40)"
      ]
     },
     "execution_count": 65,
     "metadata": {},
     "output_type": "execute_result"
    }
   ],
   "source": [
    "clasificador2 = DecisionTreeClassifier(max_depth = 40)\n",
    "clasificador2.fit(pdX_train[columnsEvaluar], y_train)"
   ]
  },
  {
   "cell_type": "code",
   "execution_count": 66,
   "metadata": {},
   "outputs": [],
   "source": [
    "# Predecir con el algoritmo entrenado\n",
    "Y_pred_train2 = clasificador2.predict(X_train)\n",
    "Y_pred_test2 = clasificador2.predict(X_test)"
   ]
  },
  {
   "cell_type": "code",
   "execution_count": 67,
   "metadata": {},
   "outputs": [
    {
     "name": "stdout",
     "output_type": "stream",
     "text": [
      "Train: \n",
      " [[38343    13]\n",
      " [   35 33433]] \n",
      "\n",
      "Test: \n",
      " [[5514 4033]\n",
      " [4005 4405]]\n"
     ]
    }
   ],
   "source": [
    "#Matriz de confusión\n",
    "print('Train:','\\n',confusion_matrix(y_train, Y_pred_train2),'\\n')\n",
    "print('Test:','\\n',confusion_matrix(y_test, Y_pred_test2))"
   ]
  },
  {
   "cell_type": "code",
   "execution_count": 68,
   "metadata": {},
   "outputs": [
    {
     "data": {
      "image/png": "[encoded data removed]",
      "text/plain": [
       "<Figure size 432x288 with 2 Axes>"
      ]
     },
     "metadata": {
      "needs_background": "light"
     },
     "output_type": "display_data"
    }
   ],
   "source": [
    "# Visualizando la matriz de confusión\n",
    "conf_mat = confusion_matrix(y_test, Y_pred_test2)\n",
    "labels = ['Class 0', 'Class 1']\n",
    "\n",
    "fig = plt.figure()\n",
    "ax = fig.add_subplot(111)\n",
    "cax = ax.matshow(conf_mat, cmap=plt.cm.Blues)\n",
    "fig.colorbar(cax)\n",
    "ax.set_xticklabels([''] + labels)\n",
    "ax.set_yticklabels([''] + labels)\n",
    "plt.xlabel('Predicted')\n",
    "plt.ylabel('Expected')\n",
    "plt.show()"
   ]
  },
  {
   "cell_type": "code",
   "execution_count": 69,
   "metadata": {},
   "outputs": [
    {
     "name": "stdout",
     "output_type": "stream",
     "text": [
      "0.9993316997104033\n",
      "0.5523751183382525\n"
     ]
    }
   ],
   "source": [
    "prediction2_train = clasificador2.score(pdX_train[columnsEvaluar], y_train)\n",
    "prediction2_test = clasificador2.score(pdX_test[columnsEvaluar], y_test)\n",
    "print(prediction2_train)\n",
    "print(prediction2_test)"
   ]
  },
  {
   "cell_type": "markdown",
   "metadata": {},
   "source": [
    "Modelo GBoosting"
   ]
  },
  {
   "cell_type": "code",
   "execution_count": 70,
   "metadata": {},
   "outputs": [],
   "source": [
    "from sklearn.ensemble import RandomForestClassifier, GradientBoostingClassifier"
   ]
  },
  {
   "cell_type": "code",
   "execution_count": 71,
   "metadata": {},
   "outputs": [
    {
     "name": "stderr",
     "output_type": "stream",
     "text": [
      "C:\\Users\\Administrativo\\AppData\\Roaming\\Python\\Python37\\site-packages\\sklearn\\utils\\validation.py:73: DataConversionWarning: A column-vector y was passed when a 1d array was expected. Please change the shape of y to (n_samples, ), for example using ravel().\n",
      "  return f(**kwargs)\n"
     ]
    },
    {
     "data": {
      "text/plain": [
       "GradientBoostingClassifier(learning_rate=0.4, max_depth=4, n_estimators=200)"
      ]
     },
     "execution_count": 71,
     "metadata": {},
     "output_type": "execute_result"
    }
   ],
   "source": [
    "clasificador3 = GradientBoostingClassifier(n_estimators=200, max_depth = 4, learning_rate = .4)\n",
    "clasificador3.fit(pdX_train[columnsEvaluar], pdy_train)"
   ]
  },
  {
   "cell_type": "code",
   "execution_count": 72,
   "metadata": {},
   "outputs": [],
   "source": [
    "# Predecir con el algoritmo entrenado\n",
    "Y_pred_train3 = clasificador3.predict(X_train)\n",
    "Y_pred_test3 = clasificador3.predict(X_test)"
   ]
  },
  {
   "cell_type": "code",
   "execution_count": 73,
   "metadata": {},
   "outputs": [
    {
     "name": "stdout",
     "output_type": "stream",
     "text": [
      "Train: \n",
      " [[29172  9184]\n",
      " [12208 21260]] \n",
      "\n",
      "Test: \n",
      " [[6764 2783]\n",
      " [3692 4718]]\n"
     ]
    }
   ],
   "source": [
    "#Matriz de confusión\n",
    "print('Train:','\\n',confusion_matrix(y_train, Y_pred_train3),'\\n')\n",
    "print('Test:','\\n',confusion_matrix(y_test, Y_pred_test3))"
   ]
  },
  {
   "cell_type": "code",
   "execution_count": 74,
   "metadata": {},
   "outputs": [
    {
     "data": {
      "image/png": "[encoded data removed]",
      "text/plain": [
       "<Figure size 432x288 with 2 Axes>"
      ]
     },
     "metadata": {
      "needs_background": "light"
     },
     "output_type": "display_data"
    }
   ],
   "source": [
    "# Visualizando la matriz de confusión\n",
    "conf_mat = confusion_matrix(y_test, Y_pred_test3)\n",
    "labels = ['Class 0', 'Class 1']\n",
    "\n",
    "fig = plt.figure()\n",
    "ax = fig.add_subplot(111)\n",
    "cax = ax.matshow(conf_mat, cmap=plt.cm.Blues)\n",
    "fig.colorbar(cax)\n",
    "ax.set_xticklabels([''] + labels)\n",
    "ax.set_yticklabels([''] + labels)\n",
    "plt.xlabel('Predicted')\n",
    "plt.ylabel('Expected')\n",
    "plt.show()"
   ]
  },
  {
   "cell_type": "code",
   "execution_count": 75,
   "metadata": {},
   "outputs": [],
   "source": [
    "prediction3_train = clasificador3.score(pdX_train[columnsEvaluar], pdy_train)\n",
    "prediction3_test = clasificador3.score(pdX_test[columnsEvaluar], pdy_test)"
   ]
  },
  {
   "cell_type": "code",
   "execution_count": 76,
   "metadata": {},
   "outputs": [
    {
     "name": "stdout",
     "output_type": "stream",
     "text": [
      "0.7021608376030296\n",
      "0.6394163835830038\n"
     ]
    }
   ],
   "source": [
    "print(prediction3_train)\n",
    "print(prediction3_test)"
   ]
  },
  {
   "cell_type": "code",
   "execution_count": null,
   "metadata": {},
   "outputs": [],
   "source": []
  },
  {
   "cell_type": "markdown",
   "metadata": {},
   "source": [
    "Gracias!!"
   ]
  }
 ],
 "metadata": {
  "kernelspec": {
   "display_name": "Python 3",
   "language": "python",
   "name": "python3"
  },
  "language_info": {
   "codemirror_mode": {
    "name": "ipython",
    "version": 3
   },
   "file_extension": ".py",
   "mimetype": "text/x-python",
   "name": "python",
   "nbconvert_exporter": "python",
   "pygments_lexer": "ipython3",
   "version": "3.7.6"
  }
 },
 "nbformat": 4,
 "nbformat_minor": 2
}
